{
 "cells": [
  {
   "cell_type": "markdown",
   "id": "fcb0bfbc",
   "metadata": {},
   "source": [
    "\n",
    "# 🌍 Kayak Destination Recommender Project\n",
    "\n",
    "Ce notebook implémente le pipeline complet pour le projet Kayak :  \n",
    "- Géocodage des villes avec **Nominatim**\n",
    "- Récupération de la météo sur 7 jours via **OpenWeatherMap**\n",
    "- Scraping des hôtels depuis **Booking.com**\n",
    "- Agrégation et enrichissement des données\n",
    "- Export vers **CSV**, **S3**, et **RDS**\n",
    "- Visualisation des résultats avec **Plotly**\n"
   ]
  },
  {
   "cell_type": "code",
   "execution_count": 29,
   "id": "f73f6327",
   "metadata": {},
   "outputs": [
    {
     "name": "stdout",
     "output_type": "stream",
     "text": [
      "dotenv loaded: True\n"
     ]
    }
   ],
   "source": [
    "\n",
    "import os\n",
    "import time\n",
    "import requests\n",
    "import pandas as pd\n",
    "import numpy as np\n",
    "from sqlalchemy import create_engine\n",
    "import plotly.express as px\n",
    "from datetime import datetime\n",
    "from bs4 import BeautifulSoup\n",
    "import boto3\n",
    "from dotenv import load_dotenv\n",
    "\n",
    "loaded = load_dotenv()\n",
    "print(\"dotenv loaded:\", loaded)\n",
    "\n",
    "# Flags d’exécution\n",
    "DO_GEOCODE = True\n",
    "DO_WEATHER = True\n",
    "DO_SCRAPE_HOTELS = False\n",
    "DO_UPLOAD_S3 = False\n",
    "DO_LOAD_RDS = False\n",
    "\n",
    "# Clés/API via ENV\n",
    "OWM_API_KEY = os.getenv(\"OWM_API_KEY\")\n",
    "AWS_ACCESS_KEY_ID = os.getenv(\"AWS_ACCESS_KEY_ID\")\n",
    "AWS_SECRET_ACCESS_KEY = os.getenv(\"AWS_SECRET_ACCESS_KEY\")\n",
    "S3_BUCKET = os.getenv(\"S3_BUCKET\", \"projet-kayak\")\n",
    "S3_REGION = os.getenv(\"S3_REGION\", \"eu-west-3\")\n",
    "\n",
    "PG_HOST = os.getenv(\"PG_HOST\", \"kayakdatabase.cluster-cxissw2oqngk.eu-west-3.rds.amazonaws.com\")\n",
    "PG_DB   = os.getenv(\"PG_DB\", \"kayakdatabase\")\n",
    "PG_USER = os.getenv(\"PG_USER\", \"postgres\")\n",
    "PG_PWD  = os.getenv(\"PG_PWD\") "
   ]
  },
  {
   "cell_type": "code",
   "execution_count": 30,
   "id": "f5b8a3b4",
   "metadata": {},
   "outputs": [
    {
     "data": {
      "text/html": [
       "<div>\n",
       "<style scoped>\n",
       "    .dataframe tbody tr th:only-of-type {\n",
       "        vertical-align: middle;\n",
       "    }\n",
       "\n",
       "    .dataframe tbody tr th {\n",
       "        vertical-align: top;\n",
       "    }\n",
       "\n",
       "    .dataframe thead th {\n",
       "        text-align: right;\n",
       "    }\n",
       "</style>\n",
       "<table border=\"1\" class=\"dataframe\">\n",
       "  <thead>\n",
       "    <tr style=\"text-align: right;\">\n",
       "      <th></th>\n",
       "      <th>city</th>\n",
       "      <th>id</th>\n",
       "    </tr>\n",
       "  </thead>\n",
       "  <tbody>\n",
       "    <tr>\n",
       "      <th>0</th>\n",
       "      <td>Mont Saint Michel</td>\n",
       "      <td>1</td>\n",
       "    </tr>\n",
       "    <tr>\n",
       "      <th>1</th>\n",
       "      <td>St Malo</td>\n",
       "      <td>2</td>\n",
       "    </tr>\n",
       "    <tr>\n",
       "      <th>2</th>\n",
       "      <td>Bayeux</td>\n",
       "      <td>3</td>\n",
       "    </tr>\n",
       "    <tr>\n",
       "      <th>3</th>\n",
       "      <td>Le Havre</td>\n",
       "      <td>4</td>\n",
       "    </tr>\n",
       "    <tr>\n",
       "      <th>4</th>\n",
       "      <td>Rouen</td>\n",
       "      <td>5</td>\n",
       "    </tr>\n",
       "  </tbody>\n",
       "</table>\n",
       "</div>"
      ],
      "text/plain": [
       "                city  id\n",
       "0  Mont Saint Michel   1\n",
       "1            St Malo   2\n",
       "2             Bayeux   3\n",
       "3           Le Havre   4\n",
       "4              Rouen   5"
      ]
     },
     "execution_count": 30,
     "metadata": {},
     "output_type": "execute_result"
    }
   ],
   "source": [
    "\n",
    "cities = [\n",
    "\"Mont Saint Michel\",\"St Malo\",\"Bayeux\",\"Le Havre\",\"Rouen\",\"Paris\",\"Amiens\",\"Lille\",\"Strasbourg\",\n",
    "\"Chateau du Haut Koenigsbourg\",\"Colmar\",\"Eguisheim\",\"Besancon\",\"Dijon\",\"Annecy\",\"Grenoble\",\"Lyon\",\n",
    "\"Gorges du Verdon\",\"Bormes les Mimosas\",\"Cassis\",\"Marseille\",\"Aix en Provence\",\"Avignon\",\"Uzes\",\n",
    "\"Nimes\",\"Aigues Mortes\",\"Saintes Maries de la mer\",\"Collioure\",\"Carcassonne\",\"Ariege\",\"Toulouse\",\n",
    "\"Montauban\",\"Biarritz\",\"Bayonne\",\"La Rochelle\"\n",
    "]\n",
    "df_cities = pd.DataFrame({\"city\": cities, \"id\": range(1, len(cities)+1)})\n",
    "df_cities.head()"
   ]
  },
  {
   "cell_type": "code",
   "execution_count": 31,
   "id": "be6ae26c",
   "metadata": {},
   "outputs": [
    {
     "data": {
      "text/html": [
       "<div>\n",
       "<style scoped>\n",
       "    .dataframe tbody tr th:only-of-type {\n",
       "        vertical-align: middle;\n",
       "    }\n",
       "\n",
       "    .dataframe tbody tr th {\n",
       "        vertical-align: top;\n",
       "    }\n",
       "\n",
       "    .dataframe thead th {\n",
       "        text-align: right;\n",
       "    }\n",
       "</style>\n",
       "<table border=\"1\" class=\"dataframe\">\n",
       "  <thead>\n",
       "    <tr style=\"text-align: right;\">\n",
       "      <th></th>\n",
       "      <th>city</th>\n",
       "      <th>id</th>\n",
       "      <th>lat</th>\n",
       "      <th>lon</th>\n",
       "    </tr>\n",
       "  </thead>\n",
       "  <tbody>\n",
       "    <tr>\n",
       "      <th>0</th>\n",
       "      <td>Mont Saint Michel</td>\n",
       "      <td>1</td>\n",
       "      <td>48.635954</td>\n",
       "      <td>-1.511460</td>\n",
       "    </tr>\n",
       "    <tr>\n",
       "      <th>1</th>\n",
       "      <td>St Malo</td>\n",
       "      <td>2</td>\n",
       "      <td>48.649518</td>\n",
       "      <td>-2.026041</td>\n",
       "    </tr>\n",
       "    <tr>\n",
       "      <th>2</th>\n",
       "      <td>Bayeux</td>\n",
       "      <td>3</td>\n",
       "      <td>49.276462</td>\n",
       "      <td>-0.702474</td>\n",
       "    </tr>\n",
       "    <tr>\n",
       "      <th>3</th>\n",
       "      <td>Le Havre</td>\n",
       "      <td>4</td>\n",
       "      <td>49.493898</td>\n",
       "      <td>0.107973</td>\n",
       "    </tr>\n",
       "    <tr>\n",
       "      <th>4</th>\n",
       "      <td>Rouen</td>\n",
       "      <td>5</td>\n",
       "      <td>49.440459</td>\n",
       "      <td>1.093966</td>\n",
       "    </tr>\n",
       "  </tbody>\n",
       "</table>\n",
       "</div>"
      ],
      "text/plain": [
       "                city  id        lat       lon\n",
       "0  Mont Saint Michel   1  48.635954 -1.511460\n",
       "1            St Malo   2  48.649518 -2.026041\n",
       "2             Bayeux   3  49.276462 -0.702474\n",
       "3           Le Havre   4  49.493898  0.107973\n",
       "4              Rouen   5  49.440459  1.093966"
      ]
     },
     "execution_count": 31,
     "metadata": {},
     "output_type": "execute_result"
    }
   ],
   "source": [
    "\n",
    "if DO_GEOCODE:\n",
    "    coords = []\n",
    "    for city in df_cities['city']:\n",
    "        url = f\"https://nominatim.openstreetmap.org/search?q={city},France&format=json&limit=1\"\n",
    "        try:\n",
    "            r = requests.get(url, headers={\"User-Agent\":\"kayak-project\"}, timeout=10)\n",
    "            r.raise_for_status()\n",
    "            data = r.json()\n",
    "            if data:\n",
    "                coords.append((float(data[0]['lat']), float(data[0]['lon'])))\n",
    "            else:\n",
    "                coords.append((None, None))\n",
    "        except:\n",
    "            coords.append((None, None))\n",
    "        time.sleep(1)\n",
    "    df_cities['lat'], df_cities['lon'] = zip(*coords)\n",
    "df_cities.head()\n"
   ]
  },
  {
   "cell_type": "code",
   "execution_count": 32,
   "id": "995042f8",
   "metadata": {},
   "outputs": [
    {
     "data": {
      "text/html": [
       "<div>\n",
       "<style scoped>\n",
       "    .dataframe tbody tr th:only-of-type {\n",
       "        vertical-align: middle;\n",
       "    }\n",
       "\n",
       "    .dataframe tbody tr th {\n",
       "        vertical-align: top;\n",
       "    }\n",
       "\n",
       "    .dataframe thead th {\n",
       "        text-align: right;\n",
       "    }\n",
       "</style>\n",
       "<table border=\"1\" class=\"dataframe\">\n",
       "  <thead>\n",
       "    <tr style=\"text-align: right;\">\n",
       "      <th></th>\n",
       "      <th>city</th>\n",
       "      <th>id</th>\n",
       "      <th>lat</th>\n",
       "      <th>lon</th>\n",
       "      <th>weather_score</th>\n",
       "    </tr>\n",
       "  </thead>\n",
       "  <tbody>\n",
       "    <tr>\n",
       "      <th>20</th>\n",
       "      <td>Marseille</td>\n",
       "      <td>21</td>\n",
       "      <td>43.296174</td>\n",
       "      <td>5.369953</td>\n",
       "      <td>24.15500</td>\n",
       "    </tr>\n",
       "    <tr>\n",
       "      <th>21</th>\n",
       "      <td>Aix en Provence</td>\n",
       "      <td>22</td>\n",
       "      <td>43.529842</td>\n",
       "      <td>5.447474</td>\n",
       "      <td>23.68875</td>\n",
       "    </tr>\n",
       "    <tr>\n",
       "      <th>24</th>\n",
       "      <td>Nimes</td>\n",
       "      <td>25</td>\n",
       "      <td>43.837425</td>\n",
       "      <td>4.360069</td>\n",
       "      <td>23.30675</td>\n",
       "    </tr>\n",
       "    <tr>\n",
       "      <th>22</th>\n",
       "      <td>Avignon</td>\n",
       "      <td>23</td>\n",
       "      <td>43.949249</td>\n",
       "      <td>4.805901</td>\n",
       "      <td>23.29250</td>\n",
       "    </tr>\n",
       "    <tr>\n",
       "      <th>19</th>\n",
       "      <td>Cassis</td>\n",
       "      <td>20</td>\n",
       "      <td>43.214036</td>\n",
       "      <td>5.539632</td>\n",
       "      <td>23.15525</td>\n",
       "    </tr>\n",
       "    <tr>\n",
       "      <th>27</th>\n",
       "      <td>Collioure</td>\n",
       "      <td>28</td>\n",
       "      <td>42.525050</td>\n",
       "      <td>3.083155</td>\n",
       "      <td>22.91775</td>\n",
       "    </tr>\n",
       "    <tr>\n",
       "      <th>25</th>\n",
       "      <td>Aigues Mortes</td>\n",
       "      <td>26</td>\n",
       "      <td>43.566152</td>\n",
       "      <td>4.191540</td>\n",
       "      <td>22.88600</td>\n",
       "    </tr>\n",
       "    <tr>\n",
       "      <th>18</th>\n",
       "      <td>Bormes les Mimosas</td>\n",
       "      <td>19</td>\n",
       "      <td>43.150697</td>\n",
       "      <td>6.341928</td>\n",
       "      <td>22.77425</td>\n",
       "    </tr>\n",
       "    <tr>\n",
       "      <th>26</th>\n",
       "      <td>Saintes Maries de la mer</td>\n",
       "      <td>27</td>\n",
       "      <td>43.451592</td>\n",
       "      <td>4.427720</td>\n",
       "      <td>22.44250</td>\n",
       "    </tr>\n",
       "    <tr>\n",
       "      <th>23</th>\n",
       "      <td>Uzes</td>\n",
       "      <td>24</td>\n",
       "      <td>44.012128</td>\n",
       "      <td>4.419672</td>\n",
       "      <td>22.25050</td>\n",
       "    </tr>\n",
       "  </tbody>\n",
       "</table>\n",
       "</div>"
      ],
      "text/plain": [
       "                        city  id        lat       lon  weather_score\n",
       "20                 Marseille  21  43.296174  5.369953       24.15500\n",
       "21           Aix en Provence  22  43.529842  5.447474       23.68875\n",
       "24                     Nimes  25  43.837425  4.360069       23.30675\n",
       "22                   Avignon  23  43.949249  4.805901       23.29250\n",
       "19                    Cassis  20  43.214036  5.539632       23.15525\n",
       "27                 Collioure  28  42.525050  3.083155       22.91775\n",
       "25             Aigues Mortes  26  43.566152  4.191540       22.88600\n",
       "18        Bormes les Mimosas  19  43.150697  6.341928       22.77425\n",
       "26  Saintes Maries de la mer  27  43.451592  4.427720       22.44250\n",
       "23                      Uzes  24  44.012128  4.419672       22.25050"
      ]
     },
     "execution_count": 32,
     "metadata": {},
     "output_type": "execute_result"
    }
   ],
   "source": [
    "OWM_API_KEY = os.getenv(\"OWM_API_KEY\")\n",
    "assert OWM_API_KEY and OWM_API_KEY not in (\"None\",\"\"), \"OWM_API_KEY est vide/introuvable. Définis-la avant de lancer.\"\n",
    "\n",
    "\n",
    "if {\"latitude\",\"longitude\"}.issubset(df_cities.columns):\n",
    "    LAT_COL, LON_COL = \"latitude\", \"longitude\"\n",
    "elif {\"lat\",\"lon\"}.issubset(df_cities.columns):\n",
    "    LAT_COL, LON_COL = \"lat\", \"lon\"\n",
    "else:\n",
    "    raise KeyError(\"df_cities doit contenir (latitude, longitude) ou (lat, lon).\")\n",
    "\n",
    "\n",
    "def compute_weather_score_forecast(forecast_list):\n",
    "    temps = []\n",
    "    rains = []\n",
    "    for d in forecast_list:\n",
    "        main = d.get(\"main\", {})\n",
    "        if \"temp\" in main:\n",
    "            temps.append(float(main[\"temp\"]))\n",
    "        rains.append(float(d.get(\"rain\", {}).get(\"3h\", 0) or 0))\n",
    "    if not temps:\n",
    "        return np.nan\n",
    "    return float(np.mean(temps) - np.mean(rains))\n",
    "\n",
    "def fetch_forecast(lat, lon, api_key, timeout=15):\n",
    "    url = \"https://api.openweathermap.org/data/2.5/forecast\"\n",
    "    params = {\"lat\": lat, \"lon\": lon, \"units\": \"metric\", \"appid\": api_key}\n",
    "    r = requests.get(url, params=params, timeout=timeout)\n",
    "    r.raise_for_status()\n",
    "    return r.json()\n",
    "\n",
    "\n",
    "if DO_WEATHER:\n",
    "    scores = []\n",
    "    for _, row in df_cities.iterrows():\n",
    "        lat, lon = row[LAT_COL], row[LON_COL]\n",
    "        if pd.isna(lat) or pd.isna(lon):\n",
    "            scores.append(np.nan)\n",
    "            continue\n",
    "        try:\n",
    "            js = fetch_forecast(lat, lon, OWM_API_KEY)\n",
    "            L = js.get(\"list\", [])\n",
    "            if not L:\n",
    "                # log utile pour diagnostiquer\n",
    "                print(f\"[WARN] Pas de 'list' pour {row['city']} — clés: {list(js.keys())}\")\n",
    "                scores.append(np.nan)\n",
    "            else:\n",
    "                scores.append(compute_weather_score_forecast(L))\n",
    "        except requests.HTTPError as e:\n",
    "            status = e.response.status_code if e.response is not None else \"?\"\n",
    "            body   = e.response.text[:140] if e.response is not None else \"\"\n",
    "            print(f\"[HTTP {status}] {row['city']}: {body}\")\n",
    "            scores.append(np.nan)\n",
    "        except Exception as e:\n",
    "            print(f\"[ERR] {row['city']}: {e}\")\n",
    "            scores.append(np.nan)\n",
    "        time.sleep(1) \n",
    "    df_cities[\"weather_score\"] = scores\n",
    "\n",
    "df_cities.sort_values(\"weather_score\", ascending=False).head(10)\n"
   ]
  },
  {
   "cell_type": "code",
   "execution_count": 33,
   "id": "904e0ac7",
   "metadata": {},
   "outputs": [
    {
     "name": "stdout",
     "output_type": "stream",
     "text": [
      "Booking – Mont Saint Michel ...\n",
      "  -> 5 hôtels\n",
      "Booking – St Malo ...\n",
      "  -> 5 hôtels\n",
      "Booking – Bayeux ...\n",
      "  -> 5 hôtels\n",
      "Booking – Le Havre ...\n",
      "  -> 5 hôtels\n",
      "Booking – Rouen ...\n",
      "  -> 5 hôtels\n",
      "Booking – Paris ...\n",
      "  -> 5 hôtels\n",
      "Booking – Amiens ...\n",
      "  -> 5 hôtels\n",
      "Booking – Lille ...\n",
      "  -> 5 hôtels\n",
      "Booking – Strasbourg ...\n",
      "  -> 5 hôtels\n",
      "Booking – Chateau du Haut Koenigsbourg ...\n",
      "  -> 5 hôtels\n",
      "Booking – Colmar ...\n",
      "  -> 5 hôtels\n",
      "Booking – Eguisheim ...\n",
      "  -> 5 hôtels\n",
      "Booking – Besancon ...\n",
      "  -> 5 hôtels\n",
      "Booking – Dijon ...\n",
      "  -> 5 hôtels\n",
      "Booking – Annecy ...\n",
      "  -> 5 hôtels\n",
      "Booking – Grenoble ...\n",
      "  -> 5 hôtels\n",
      "Booking – Lyon ...\n",
      "  -> 5 hôtels\n",
      "Booking – Gorges du Verdon ...\n",
      "  -> 5 hôtels\n",
      "Booking – Bormes les Mimosas ...\n",
      "  -> 5 hôtels\n",
      "Booking – Cassis ...\n",
      "  -> 5 hôtels\n",
      "Booking – Marseille ...\n",
      "  -> 5 hôtels\n",
      "Booking – Aix en Provence ...\n",
      "  -> 5 hôtels\n",
      "Booking – Avignon ...\n",
      "  -> 5 hôtels\n",
      "Booking – Uzes ...\n",
      "  -> 5 hôtels\n",
      "Booking – Nimes ...\n",
      "  -> 5 hôtels\n",
      "Booking – Aigues Mortes ...\n",
      "  -> 5 hôtels\n",
      "Booking – Saintes Maries de la mer ...\n",
      "  -> 5 hôtels\n",
      "Booking – Collioure ...\n",
      "  -> 5 hôtels\n",
      "Booking – Carcassonne ...\n",
      "  -> 5 hôtels\n",
      "Booking – Ariege ...\n",
      "  -> 5 hôtels\n",
      "Booking – Toulouse ...\n",
      "  -> 5 hôtels\n",
      "Booking – Montauban ...\n",
      "  -> 5 hôtels\n",
      "Booking – Biarritz ...\n",
      "  -> 5 hôtels\n",
      "Booking – Bayonne ...\n",
      "  -> 5 hôtels\n",
      "Booking – La Rochelle ...\n",
      "  -> 5 hôtels\n",
      "Total hôtels collectés : 171\n"
     ]
    },
    {
     "data": {
      "text/html": [
       "<div>\n",
       "<style scoped>\n",
       "    .dataframe tbody tr th:only-of-type {\n",
       "        vertical-align: middle;\n",
       "    }\n",
       "\n",
       "    .dataframe tbody tr th {\n",
       "        vertical-align: top;\n",
       "    }\n",
       "\n",
       "    .dataframe thead th {\n",
       "        text-align: right;\n",
       "    }\n",
       "</style>\n",
       "<table border=\"1\" class=\"dataframe\">\n",
       "  <thead>\n",
       "    <tr style=\"text-align: right;\">\n",
       "      <th></th>\n",
       "      <th>city</th>\n",
       "      <th>hotel_name</th>\n",
       "      <th>url</th>\n",
       "      <th>score</th>\n",
       "    </tr>\n",
       "  </thead>\n",
       "  <tbody>\n",
       "    <tr>\n",
       "      <th>0</th>\n",
       "      <td>Mont Saint Michel</td>\n",
       "      <td>Apparthôtel Mont Saint Michel - Résidence Fleu...</td>\n",
       "      <td>https://www.booking.com/hotel/fr/residence-fle...</td>\n",
       "      <td>8.4</td>\n",
       "    </tr>\n",
       "    <tr>\n",
       "      <th>1</th>\n",
       "      <td>Mont Saint Michel</td>\n",
       "      <td>Gîtes le Mont Desclos Saint Michel</td>\n",
       "      <td>https://www.booking.com/hotel/fr/gites-le-mont...</td>\n",
       "      <td>9.1</td>\n",
       "    </tr>\n",
       "    <tr>\n",
       "      <th>2</th>\n",
       "      <td>Mont Saint Michel</td>\n",
       "      <td>Hotel Rose</td>\n",
       "      <td>https://www.booking.com/hotel/fr/gue-de-beauvo...</td>\n",
       "      <td>8.5</td>\n",
       "    </tr>\n",
       "    <tr>\n",
       "      <th>3</th>\n",
       "      <td>Mont Saint Michel</td>\n",
       "      <td>La Greve Saint Michel</td>\n",
       "      <td>https://www.booking.com/hotel/fr/la-greve-sain...</td>\n",
       "      <td>8.9</td>\n",
       "    </tr>\n",
       "    <tr>\n",
       "      <th>4</th>\n",
       "      <td>Mont Saint Michel</td>\n",
       "      <td>Résidence Beauvoir le Mont-Saint-Michel (9 gît...</td>\n",
       "      <td>https://www.booking.com/hotel/fr/residence-bea...</td>\n",
       "      <td>9.5</td>\n",
       "    </tr>\n",
       "    <tr>\n",
       "      <th>5</th>\n",
       "      <td>St Malo</td>\n",
       "      <td>La Rotonde</td>\n",
       "      <td>https://www.booking.com/hotel/fr/la-rotonde-st...</td>\n",
       "      <td>7.5</td>\n",
       "    </tr>\n",
       "    <tr>\n",
       "      <th>6</th>\n",
       "      <td>St Malo</td>\n",
       "      <td>Ker Edouard</td>\n",
       "      <td>https://www.booking.com/hotel/fr/ker-edouard-t...</td>\n",
       "      <td>8.2</td>\n",
       "    </tr>\n",
       "    <tr>\n",
       "      <th>7</th>\n",
       "      <td>St Malo</td>\n",
       "      <td>Brit Hotel Le Surcouf</td>\n",
       "      <td>https://www.booking.com/hotel/fr/le-surcouf.fr...</td>\n",
       "      <td>7.8</td>\n",
       "    </tr>\n",
       "    <tr>\n",
       "      <th>8</th>\n",
       "      <td>St Malo</td>\n",
       "      <td>Best Western Alexandra</td>\n",
       "      <td>https://www.booking.com/hotel/fr/best-western-...</td>\n",
       "      <td>8.4</td>\n",
       "    </tr>\n",
       "    <tr>\n",
       "      <th>9</th>\n",
       "      <td>St Malo</td>\n",
       "      <td>Hotel Ar Terra Nova</td>\n",
       "      <td>https://www.booking.com/hotel/fr/ar-terra-nova...</td>\n",
       "      <td>7.8</td>\n",
       "    </tr>\n",
       "  </tbody>\n",
       "</table>\n",
       "</div>"
      ],
      "text/plain": [
       "                city                                         hotel_name  \\\n",
       "0  Mont Saint Michel  Apparthôtel Mont Saint Michel - Résidence Fleu...   \n",
       "1  Mont Saint Michel                 Gîtes le Mont Desclos Saint Michel   \n",
       "2  Mont Saint Michel                                         Hotel Rose   \n",
       "3  Mont Saint Michel                              La Greve Saint Michel   \n",
       "4  Mont Saint Michel  Résidence Beauvoir le Mont-Saint-Michel (9 gît...   \n",
       "5            St Malo                                         La Rotonde   \n",
       "6            St Malo                                        Ker Edouard   \n",
       "7            St Malo                              Brit Hotel Le Surcouf   \n",
       "8            St Malo                             Best Western Alexandra   \n",
       "9            St Malo                                Hotel Ar Terra Nova   \n",
       "\n",
       "                                                 url  score  \n",
       "0  https://www.booking.com/hotel/fr/residence-fle...    8.4  \n",
       "1  https://www.booking.com/hotel/fr/gites-le-mont...    9.1  \n",
       "2  https://www.booking.com/hotel/fr/gue-de-beauvo...    8.5  \n",
       "3  https://www.booking.com/hotel/fr/la-greve-sain...    8.9  \n",
       "4  https://www.booking.com/hotel/fr/residence-bea...    9.5  \n",
       "5  https://www.booking.com/hotel/fr/la-rotonde-st...    7.5  \n",
       "6  https://www.booking.com/hotel/fr/ker-edouard-t...    8.2  \n",
       "7  https://www.booking.com/hotel/fr/le-surcouf.fr...    7.8  \n",
       "8  https://www.booking.com/hotel/fr/best-western-...    8.4  \n",
       "9  https://www.booking.com/hotel/fr/ar-terra-nova...    7.8  "
      ]
     },
     "execution_count": 33,
     "metadata": {},
     "output_type": "execute_result"
    }
   ],
   "source": [
    "import os, time, re\n",
    "import pandas as pd\n",
    "from datetime import datetime, timedelta\n",
    "\n",
    "# SCRAPING BOOKING AVEC UC (anti-bot)\n",
    "import undetected_chromedriver as uc\n",
    "from selenium.webdriver.common.by import By\n",
    "from selenium.webdriver.support.ui import WebDriverWait\n",
    "from selenium.webdriver.support import expected_conditions as EC\n",
    "\n",
    "DEBUG_DIR = \"debug_booking\"\n",
    "os.makedirs(DEBUG_DIR, exist_ok=True)\n",
    "\n",
    "def build_booking_url(city: str, nights: int = 2):\n",
    "    checkin = (datetime.today() + timedelta(days=14)).strftime(\"%Y-%m-%d\")\n",
    "    checkout = (datetime.today() + timedelta(days=14+nights)).strftime(\"%Y-%m-%d\")\n",
    "    return (\n",
    "        \"https://www.booking.com/searchresults.fr.html\"\n",
    "        f\"?ss={city.replace(' ', '+')},France\"\n",
    "        f\"&checkin={checkin}&checkout={checkout}\"\n",
    "        \"&group_adults=2&no_rooms=1&group_children=0\"\n",
    "        \"&selected_currency=EUR&order=popularity\"\n",
    "        \"&sb_travel_purpose=leisure\"\n",
    "        \"&lang=fr&srpvid=abcd\"\n",
    "    )\n",
    "\n",
    "def start_uc(headless: bool = True):\n",
    "    opts = uc.ChromeOptions()\n",
    "    if headless:\n",
    "        opts.add_argument(\"--headless=new\")\n",
    "    opts.add_argument(\"--no-sandbox\")\n",
    "    opts.add_argument(\"--disable-dev-shm-usage\")\n",
    "    opts.add_argument(\"--start-maximized\")\n",
    "    opts.add_argument(\"--disable-blink-features=AutomationControlled\")\n",
    "    opts.add_argument(\"--lang=fr-FR\")\n",
    "    opts.add_argument(\"user-agent=Mozilla/5.0 (Windows NT 10.0; Win64; x64) \"\n",
    "                      \"AppleWebKit/537.36 (KHTML, like Gecko) \"\n",
    "                      \"Chrome/124.0.0.0 Safari/537.36\")\n",
    "    driver = uc.Chrome(options=opts)\n",
    "    return driver\n",
    "\n",
    "def accept_cookies(driver):\n",
    "    selectors = [\n",
    "        \"#onetrust-accept-btn-handler\",\n",
    "        \"button[aria-label='Accepter']\",\n",
    "        \"button[aria-label='Accept']\",\n",
    "        \"button[aria-label*='cookies']\",\n",
    "        \"[data-testid='accept-all-cookies-button']\",\n",
    "    ]\n",
    "    for sel in selectors:\n",
    "        try:\n",
    "            btn = WebDriverWait(driver, 4).until(EC.element_to_be_clickable((By.CSS_SELECTOR, sel)))\n",
    "            btn.click()\n",
    "            time.sleep(1)\n",
    "            return True\n",
    "        except:\n",
    "            pass\n",
    "    return False\n",
    "\n",
    "def slow_scroll(driver, steps=4, pause=1.2):\n",
    "    h = driver.execute_script(\"return document.body.scrollHeight\")\n",
    "    for i in range(1, steps+1):\n",
    "        y = int(h * i / steps)\n",
    "        driver.execute_script(f\"window.scrollTo(0, {y});\")\n",
    "        time.sleep(pause)\n",
    "\n",
    "def parse_cards(driver, max_hotels=5):\n",
    "    \n",
    "    cards = driver.find_elements(By.CSS_SELECTOR, \"div[data-testid='property-card']\")\n",
    "    if not cards:\n",
    "        cards = driver.find_elements(By.CSS_SELECTOR, \"div.sr_property_block\")\n",
    "    rows = []\n",
    "    for card in cards[:max_hotels]:\n",
    "\n",
    "        name = None\n",
    "        for sel in [\"div[data-testid='title']\", \".sr-hotel__name\", \".fcab3ed991\"]:\n",
    "            try:\n",
    "                txt = card.find_element(By.CSS_SELECTOR, sel).text.strip()\n",
    "                if txt:\n",
    "                    name = txt\n",
    "                    break\n",
    "            except:\n",
    "                continue\n",
    "\n",
    "        url = None\n",
    "        for sel in [\"a[data-testid='title-link']\", \"a.sr-hotel__name\", \"a\"]:\n",
    "            try:\n",
    "                href = card.find_element(By.CSS_SELECTOR, sel).get_attribute(\"href\")\n",
    "                if href and \"booking.com\" in href:\n",
    "                    url = href\n",
    "                    break\n",
    "            except:\n",
    "                continue\n",
    "        score = None\n",
    "        for sel in [\"div[data-testid='review-score']\", \".bui-review-score__badge\", \".b5cd09854e\"]:\n",
    "            try:\n",
    "                t = card.find_element(By.CSS_SELECTOR, sel).text.strip()\n",
    "                if t:\n",
    "                    score = t\n",
    "                    break\n",
    "            except:\n",
    "                continue\n",
    "        rows.append({\"hotel_name\": name, \"url\": url, \"score\": score})\n",
    "    return rows\n",
    "\n",
    "def scrape_hotels_city_uc(city: str, max_hotels: int = 5, headless: bool = True, debug_save=True):\n",
    "    driver = start_uc(headless=headless)\n",
    "    url = build_booking_url(city)\n",
    "    out = []\n",
    "    try:\n",
    "        driver.get(url)\n",
    "        time.sleep(3)\n",
    "        accept_cookies(driver)\n",
    "\n",
    "\n",
    "        try:\n",
    "            WebDriverWait(driver, 15).until(\n",
    "                EC.presence_of_element_located((By.CSS_SELECTOR, \"div[data-testid='property-card'], div.sr_property_block\"))\n",
    "            )\n",
    "        except:\n",
    "            pass\n",
    "\n",
    "\n",
    "        slow_scroll(driver, steps=5, pause=1.0)\n",
    "\n",
    "\n",
    "        if debug_save:\n",
    "            html_path = os.path.join(DEBUG_DIR, f\"{city.replace(' ','_')}.html\")\n",
    "            png_path  = os.path.join(DEBUG_DIR, f\"{city.replace(' ','_')}.png\")\n",
    "            with open(html_path, \"w\", encoding=\"utf-8\") as f:\n",
    "                f.write(driver.page_source)\n",
    "            try:\n",
    "                driver.save_screenshot(png_path)\n",
    "            except:\n",
    "                pass\n",
    "\n",
    "        rows = parse_cards(driver, max_hotels=max_hotels)\n",
    "\n",
    "\n",
    "        cleaned = []\n",
    "        for r in rows:\n",
    "            sc = r.get(\"score\")\n",
    "            score_float = None\n",
    "            if sc:\n",
    "                m = re.search(r\"(\\d+[.,]?\\d*)\", sc)\n",
    "                if m:\n",
    "                    score_float = float(m.group(1).replace(\",\", \".\"))\n",
    "            cleaned.append({\"city\": city, \"hotel_name\": r.get(\"hotel_name\"), \"url\": r.get(\"url\"), \"score\": score_float})\n",
    "        out = [row for row in cleaned if any([row[\"hotel_name\"], row[\"url\"], row[\"score\"] is not None])]\n",
    "\n",
    "    finally:\n",
    "        driver.quit()\n",
    "    return out\n",
    "\n",
    "# BOUCLE PRINCIPALE\n",
    "DO_SCRAPE_HOTELS = True\n",
    "\n",
    "if DO_SCRAPE_HOTELS:\n",
    "    all_hotels = []\n",
    "    test_batch = cities\n",
    "    for c in test_batch:\n",
    "        print(f\"Booking – {c} ...\")\n",
    "        rows = scrape_hotels_city_uc(c, max_hotels=5, headless=False, debug_save=True)\n",
    "        print(f\"  -> {len(rows)} hôtels\")\n",
    "        all_hotels.extend(rows)\n",
    "        time.sleep(3)\n",
    "\n",
    "    df_hotels = pd.DataFrame(all_hotels).drop_duplicates(subset=[\"city\",\"hotel_name\"], keep=\"first\")\n",
    "    print(\"Total hôtels collectés :\", len(df_hotels))\n",
    "    df_hotels.to_csv(\"hotels.csv\", index=False)\n",
    "else:\n",
    "    df_hotels = pd.DataFrame(columns=[\"city\",\"hotel_name\",\"url\",\"score\"])\n",
    "\n",
    "df_hotels.head(10)\n",
    "\n"
   ]
  },
  {
   "cell_type": "code",
   "execution_count": 34,
   "id": "ee8323b6",
   "metadata": {},
   "outputs": [
    {
     "data": {
      "text/html": [
       "<div>\n",
       "<style scoped>\n",
       "    .dataframe tbody tr th:only-of-type {\n",
       "        vertical-align: middle;\n",
       "    }\n",
       "\n",
       "    .dataframe tbody tr th {\n",
       "        vertical-align: top;\n",
       "    }\n",
       "\n",
       "    .dataframe thead th {\n",
       "        text-align: right;\n",
       "    }\n",
       "</style>\n",
       "<table border=\"1\" class=\"dataframe\">\n",
       "  <thead>\n",
       "    <tr style=\"text-align: right;\">\n",
       "      <th></th>\n",
       "      <th>city</th>\n",
       "      <th>id</th>\n",
       "      <th>lat</th>\n",
       "      <th>lon</th>\n",
       "      <th>weather_score</th>\n",
       "      <th>hotel_name</th>\n",
       "      <th>url</th>\n",
       "      <th>score</th>\n",
       "    </tr>\n",
       "  </thead>\n",
       "  <tbody>\n",
       "    <tr>\n",
       "      <th>0</th>\n",
       "      <td>Mont Saint Michel</td>\n",
       "      <td>1</td>\n",
       "      <td>48.635954</td>\n",
       "      <td>-1.51146</td>\n",
       "      <td>16.905</td>\n",
       "      <td>Apparthôtel Mont Saint Michel - Résidence Fleu...</td>\n",
       "      <td>https://www.booking.com/hotel/fr/residence-fle...</td>\n",
       "      <td>8.4</td>\n",
       "    </tr>\n",
       "    <tr>\n",
       "      <th>1</th>\n",
       "      <td>Mont Saint Michel</td>\n",
       "      <td>1</td>\n",
       "      <td>48.635954</td>\n",
       "      <td>-1.51146</td>\n",
       "      <td>16.905</td>\n",
       "      <td>Gîtes le Mont Desclos Saint Michel</td>\n",
       "      <td>https://www.booking.com/hotel/fr/gites-le-mont...</td>\n",
       "      <td>9.1</td>\n",
       "    </tr>\n",
       "    <tr>\n",
       "      <th>2</th>\n",
       "      <td>Mont Saint Michel</td>\n",
       "      <td>1</td>\n",
       "      <td>48.635954</td>\n",
       "      <td>-1.51146</td>\n",
       "      <td>16.905</td>\n",
       "      <td>Hotel Rose</td>\n",
       "      <td>https://www.booking.com/hotel/fr/gue-de-beauvo...</td>\n",
       "      <td>8.5</td>\n",
       "    </tr>\n",
       "    <tr>\n",
       "      <th>3</th>\n",
       "      <td>Mont Saint Michel</td>\n",
       "      <td>1</td>\n",
       "      <td>48.635954</td>\n",
       "      <td>-1.51146</td>\n",
       "      <td>16.905</td>\n",
       "      <td>La Greve Saint Michel</td>\n",
       "      <td>https://www.booking.com/hotel/fr/la-greve-sain...</td>\n",
       "      <td>8.9</td>\n",
       "    </tr>\n",
       "    <tr>\n",
       "      <th>4</th>\n",
       "      <td>Mont Saint Michel</td>\n",
       "      <td>1</td>\n",
       "      <td>48.635954</td>\n",
       "      <td>-1.51146</td>\n",
       "      <td>16.905</td>\n",
       "      <td>Résidence Beauvoir le Mont-Saint-Michel (9 gît...</td>\n",
       "      <td>https://www.booking.com/hotel/fr/residence-bea...</td>\n",
       "      <td>9.5</td>\n",
       "    </tr>\n",
       "  </tbody>\n",
       "</table>\n",
       "</div>"
      ],
      "text/plain": [
       "                city  id        lat      lon  weather_score  \\\n",
       "0  Mont Saint Michel   1  48.635954 -1.51146         16.905   \n",
       "1  Mont Saint Michel   1  48.635954 -1.51146         16.905   \n",
       "2  Mont Saint Michel   1  48.635954 -1.51146         16.905   \n",
       "3  Mont Saint Michel   1  48.635954 -1.51146         16.905   \n",
       "4  Mont Saint Michel   1  48.635954 -1.51146         16.905   \n",
       "\n",
       "                                          hotel_name  \\\n",
       "0  Apparthôtel Mont Saint Michel - Résidence Fleu...   \n",
       "1                 Gîtes le Mont Desclos Saint Michel   \n",
       "2                                         Hotel Rose   \n",
       "3                              La Greve Saint Michel   \n",
       "4  Résidence Beauvoir le Mont-Saint-Michel (9 gît...   \n",
       "\n",
       "                                                 url  score  \n",
       "0  https://www.booking.com/hotel/fr/residence-fle...    8.4  \n",
       "1  https://www.booking.com/hotel/fr/gites-le-mont...    9.1  \n",
       "2  https://www.booking.com/hotel/fr/gue-de-beauvo...    8.5  \n",
       "3  https://www.booking.com/hotel/fr/la-greve-sain...    8.9  \n",
       "4  https://www.booking.com/hotel/fr/residence-bea...    9.5  "
      ]
     },
     "execution_count": 34,
     "metadata": {},
     "output_type": "execute_result"
    }
   ],
   "source": [
    "\n",
    "df_final = df_cities.merge(df_hotels, on=\"city\", how=\"left\")\n",
    "timestamp = datetime.now().strftime(\"%Y%m%d_%H%M\")\n",
    "df_final.to_csv(f\"kayak_final_{timestamp}.csv\", index=False)\n",
    "df_final.head()\n"
   ]
  },
  {
   "cell_type": "code",
   "execution_count": 35,
   "id": "9e1bf665",
   "metadata": {},
   "outputs": [
    {
     "name": "stdout",
     "output_type": "stream",
     "text": [
      "Fichiers écrits :\n",
      " - hotels_20250826_113312.csv\n",
      " - final_dataset_20250826_113312.csv\n"
     ]
    },
    {
     "name": "stderr",
     "output_type": "stream",
     "text": [
      "C:\\Users\\adela\\AppData\\Local\\Temp\\ipykernel_19588\\3047181128.py:42: DeprecationWarning: datetime.datetime.utcnow() is deprecated and scheduled for removal in a future version. Use timezone-aware objects to represent datetimes in UTC: datetime.datetime.now(datetime.UTC).\n",
      "  timestamp = datetime.utcnow().strftime(\"%Y%m%d_%H%M%S\")\n"
     ]
    },
    {
     "data": {
      "text/html": [
       "<div>\n",
       "<style scoped>\n",
       "    .dataframe tbody tr th:only-of-type {\n",
       "        vertical-align: middle;\n",
       "    }\n",
       "\n",
       "    .dataframe tbody tr th {\n",
       "        vertical-align: top;\n",
       "    }\n",
       "\n",
       "    .dataframe thead th {\n",
       "        text-align: right;\n",
       "    }\n",
       "</style>\n",
       "<table border=\"1\" class=\"dataframe\">\n",
       "  <thead>\n",
       "    <tr style=\"text-align: right;\">\n",
       "      <th></th>\n",
       "      <th>city_id</th>\n",
       "      <th>city</th>\n",
       "      <th>lat</th>\n",
       "      <th>lon</th>\n",
       "      <th>weather_score</th>\n",
       "      <th>nb_hotels</th>\n",
       "      <th>avg_score</th>\n",
       "      <th>max_score</th>\n",
       "    </tr>\n",
       "  </thead>\n",
       "  <tbody>\n",
       "    <tr>\n",
       "      <th>0</th>\n",
       "      <td>1</td>\n",
       "      <td>Mont Saint Michel</td>\n",
       "      <td>48.635954</td>\n",
       "      <td>-1.511460</td>\n",
       "      <td>16.90500</td>\n",
       "      <td>5</td>\n",
       "      <td>8.88</td>\n",
       "      <td>9.5</td>\n",
       "    </tr>\n",
       "    <tr>\n",
       "      <th>1</th>\n",
       "      <td>2</td>\n",
       "      <td>St Malo</td>\n",
       "      <td>48.649518</td>\n",
       "      <td>-2.026041</td>\n",
       "      <td>17.45900</td>\n",
       "      <td>5</td>\n",
       "      <td>7.94</td>\n",
       "      <td>8.4</td>\n",
       "    </tr>\n",
       "    <tr>\n",
       "      <th>2</th>\n",
       "      <td>3</td>\n",
       "      <td>Bayeux</td>\n",
       "      <td>49.276462</td>\n",
       "      <td>-0.702474</td>\n",
       "      <td>16.82375</td>\n",
       "      <td>5</td>\n",
       "      <td>8.44</td>\n",
       "      <td>9.5</td>\n",
       "    </tr>\n",
       "    <tr>\n",
       "      <th>3</th>\n",
       "      <td>4</td>\n",
       "      <td>Le Havre</td>\n",
       "      <td>49.493898</td>\n",
       "      <td>0.107973</td>\n",
       "      <td>17.62575</td>\n",
       "      <td>5</td>\n",
       "      <td>8.24</td>\n",
       "      <td>8.6</td>\n",
       "    </tr>\n",
       "    <tr>\n",
       "      <th>4</th>\n",
       "      <td>5</td>\n",
       "      <td>Rouen</td>\n",
       "      <td>49.440459</td>\n",
       "      <td>1.093966</td>\n",
       "      <td>17.19150</td>\n",
       "      <td>5</td>\n",
       "      <td>7.86</td>\n",
       "      <td>8.6</td>\n",
       "    </tr>\n",
       "  </tbody>\n",
       "</table>\n",
       "</div>"
      ],
      "text/plain": [
       "   city_id               city        lat       lon  weather_score  nb_hotels  \\\n",
       "0        1  Mont Saint Michel  48.635954 -1.511460       16.90500          5   \n",
       "1        2            St Malo  48.649518 -2.026041       17.45900          5   \n",
       "2        3             Bayeux  49.276462 -0.702474       16.82375          5   \n",
       "3        4           Le Havre  49.493898  0.107973       17.62575          5   \n",
       "4        5              Rouen  49.440459  1.093966       17.19150          5   \n",
       "\n",
       "   avg_score  max_score  \n",
       "0       8.88        9.5  \n",
       "1       7.94        8.4  \n",
       "2       8.44        9.5  \n",
       "3       8.24        8.6  \n",
       "4       7.86        8.6  "
      ]
     },
     "execution_count": 35,
     "metadata": {},
     "output_type": "execute_result"
    }
   ],
   "source": [
    "import pandas as pd\n",
    "from datetime import datetime\n",
    "\n",
    "# On part de :\n",
    "# df_cities : columns => city, latitude, longitude, (optionnel: weather_score)\n",
    "# df_hotels : columns => city, hotel_name, url, score\n",
    "\n",
    "# A. ID de ville + normalisation de noms pour join robuste\n",
    "def norm(s): \n",
    "    return str(s).lower().replace(\"-\", \" \").replace(\"'\", \" \").replace(\"  \",\" \").strip()\n",
    "\n",
    "df_cities = df_cities.reset_index(drop=True).copy()\n",
    "if \"city_id\" not in df_cities.columns:\n",
    "    df_cities.insert(0, \"city_id\", range(1, len(df_cities) + 1))\n",
    "df_cities[\"city_norm\"] = df_cities[\"city\"].map(norm)\n",
    "\n",
    "df_hotels = df_hotels.copy()\n",
    "df_hotels[\"city_norm\"] = df_hotels[\"city\"].map(norm)\n",
    "\n",
    "# B. Jointure villes <-> hotels (pour rattacher lat/lon & city_id)\n",
    "df_hotels_city = df_hotels.merge(\n",
    "    df_cities[[\"city_id\",\"city\",\"city_norm\",\"lat\",\"lon\"]],\n",
    "    on=\"city_norm\", how=\"left\", suffixes=(\"\",\"_city\")\n",
    ")\n",
    "\n",
    "# C. KPIs hôtels par ville (nb, moyenne, max)\n",
    "df_hotels_city[\"score\"] = pd.to_numeric(df_hotels_city[\"score\"], errors=\"coerce\")\n",
    "agg_hotels = df_hotels_city.groupby([\"city_id\",\"city\"], as_index=False).agg(\n",
    "    nb_hotels=(\"hotel_name\",\"nunique\"),\n",
    "    avg_score=(\"score\",\"mean\"),\n",
    "    max_score=(\"score\",\"max\")\n",
    ")\n",
    "\n",
    "# D. Fusion avec la météo (assumée dans df_cities : weather_score)\n",
    "cols_keep = [\"city_id\",\"city\",\"lat\",\"lon\"]\n",
    "if \"weather_score\" in df_cities.columns:\n",
    "    cols_keep.append(\"weather_score\")\n",
    "\n",
    "df_final = df_cities[cols_keep].merge(agg_hotels, on=[\"city_id\",\"city\"], how=\"left\")\n",
    "\n",
    "# E. Exports CSV (horodatés)\n",
    "timestamp = datetime.utcnow().strftime(\"%Y%m%d_%H%M%S\")\n",
    "hotels_csv = f\"hotels_{timestamp}.csv\"\n",
    "final_csv  = f\"final_dataset_{timestamp}.csv\"\n",
    "\n",
    "df_hotels_city[[\"city_id\",\"city\",\"hotel_name\",\"url\",\"score\"]].to_csv(hotels_csv, index=False)\n",
    "df_final.to_csv(final_csv, index=False)\n",
    "\n",
    "print(\"Fichiers écrits :\")\n",
    "print(\" -\", hotels_csv)\n",
    "print(\" -\", final_csv)\n",
    "\n",
    "df_final.head()"
   ]
  },
  {
   "cell_type": "code",
   "execution_count": 36,
   "id": "92ecae9d",
   "metadata": {},
   "outputs": [
    {
     "name": "stdout",
     "output_type": "stream",
     "text": [
      "Upload S3 OK :\n",
      " - s3://projet-kayak/kayak/hotels_20250826_113312.csv\n",
      " - s3://projet-kayak/kayak/final_dataset_20250826_113312.csv\n",
      "ℹ️  Base 'kayakdatabase' déjà présente.\n",
      "✅ Chargement RDS OK : tables 'destinations' et 'hotels'\n"
     ]
    }
   ],
   "source": [
    "import os, io, boto3, pandas as pd\n",
    "from sqlalchemy import create_engine, text\n",
    "from urllib.parse import quote_plus\n",
    "\n",
    "# Params\n",
    "S3_BUCKET = os.getenv(\"S3_BUCKET\", \"projet-kayak\")\n",
    "S3_REGION = os.getenv(\"S3_REGION\", \"eu-west-3\")\n",
    "AWS_ACCESS_KEY_ID = os.getenv(\"AWS_ACCESS_KEY_ID\")\n",
    "AWS_SECRET_ACCESS_KEY = os.getenv(\"AWS_SECRET_ACCESS_KEY\")\n",
    "\n",
    "PG_HOST = os.getenv(\"PG_HOST\")\n",
    "PG_DB   = os.getenv(\"PG_DB\", \"kayakdatabase\")\n",
    "PG_USER = os.getenv(\"PG_USER\", \"postgres\")\n",
    "PG_PWD  = os.getenv(\"PG_PWD\")\n",
    "\n",
    "\n",
    "# CSV -> S3\n",
    "session = boto3.session.Session(\n",
    "    aws_access_key_id=AWS_ACCESS_KEY_ID,\n",
    "    aws_secret_access_key=AWS_SECRET_ACCESS_KEY,\n",
    "    region_name=S3_REGION\n",
    ")\n",
    "s3 = session.client(\"s3\")\n",
    "\n",
    "s3_key_hotels = f\"kayak/{os.path.basename(hotels_csv)}\"\n",
    "s3_key_final  = f\"kayak/{os.path.basename(final_csv)}\"\n",
    "\n",
    "\n",
    "s3.upload_file(hotels_csv, S3_BUCKET, s3_key_hotels)\n",
    "s3.upload_file(final_csv , S3_BUCKET, s3_key_final)\n",
    "print(\"Upload S3 OK :\")\n",
    "print(f\" - s3://{S3_BUCKET}/{s3_key_hotels}\")\n",
    "print(f\" - s3://{S3_BUCKET}/{s3_key_final}\")\n",
    "\n",
    "# Lire depuis S3 -> DataFrame\n",
    "obj_final  = s3.get_object(Bucket=S3_BUCKET, Key=s3_key_final)\n",
    "df_final_s3  = pd.read_csv(io.BytesIO(obj_final[\"Body\"].read()))\n",
    "obj_hotels = s3.get_object(Bucket=S3_BUCKET, Key=s3_key_hotels)\n",
    "df_hotels_s3 = pd.read_csv(io.BytesIO(obj_hotels[\"Body\"].read()))\n",
    "\n",
    "# Créer la DB 'kayakdatabase' si besoin (depuis 'postgres')\n",
    "engine_default = create_engine(\n",
    "    f\"postgresql+psycopg2://{quote_plus(PG_USER)}:{quote_plus(PG_PWD)}@{PG_HOST}:5432/postgres\",\n",
    "    isolation_level=\"AUTOCOMMIT\",\n",
    ")\n",
    "with engine_default.connect() as con:\n",
    "    exists = con.execute(text(\"SELECT 1 FROM pg_database WHERE datname=:d;\"), {\"d\": PG_DB}).scalar()\n",
    "    if not exists:\n",
    "        con.execute(text(f\"CREATE DATABASE {PG_DB};\"))\n",
    "        print(f\"✅ Base '{PG_DB}' créée.\")\n",
    "    else:\n",
    "        print(f\"ℹ️  Base '{PG_DB}' déjà présente.\")\n",
    "\n",
    "# Charger en RDS (dans la DB cible)\n",
    "engine = create_engine(\n",
    "    f\"postgresql+psycopg2://{quote_plus(PG_USER)}:{quote_plus(PG_PWD)}@{PG_HOST}:5432/{PG_DB}\"\n",
    ")\n",
    "with engine.begin() as conn:\n",
    "    # tables minimales\n",
    "    df_final_s3.to_sql(\"destinations\", conn, if_exists=\"replace\", index=False)\n",
    "    df_hotels_s3.to_sql(\"hotels\", conn, if_exists=\"replace\", index=False)\n",
    "print(\"✅ Chargement RDS OK : tables 'destinations' et 'hotels'\")\n"
   ]
  },
  {
   "cell_type": "code",
   "execution_count": 40,
   "id": "15b4f5b2",
   "metadata": {},
   "outputs": [
    {
     "data": {
      "application/vnd.plotly.v1+json": {
       "config": {
        "plotlyServerURL": "https://plot.ly"
       },
       "data": [
        {
         "hovertemplate": "<b>%{hovertext}</b><br><br>nb_hotels=%{marker.size}<br>lat=%{lat}<br>lon=%{lon}<br>weather_score=%{marker.color}<extra></extra>",
         "hovertext": [
          "Marseille",
          "Aix en Provence",
          "Nimes",
          "Avignon",
          "Cassis"
         ],
         "lat": {
          "bdata": "NTUaCumlRUBfBDLg0cNFQJQtN70w60VAHaBFAIH5RUDAVUOHZZtFQA==",
          "dtype": "f8"
         },
         "legendgroup": "",
         "lon": {
          "bdata": "NEsC1NR6FUBzRGOSNsoVQMFAa9m1cBFAhzoHKj45E0DGhhM9lSgWQA==",
          "dtype": "f8"
         },
         "marker": {
          "color": {
           "bdata": "SOF6FK4nOEC4HoXrUbA3QEoMAiuHTjdAexSuR+FKN0A6tMh2vic3QA==",
           "dtype": "f8"
          },
          "coloraxis": "coloraxis",
          "size": {
           "bdata": "BQUFBQU=",
           "dtype": "i1"
          },
          "sizemode": "area",
          "sizeref": 0.0125
         },
         "mode": "markers",
         "name": "",
         "showlegend": false,
         "subplot": "map",
         "type": "scattermap"
        }
       ],
       "layout": {
        "coloraxis": {
         "colorbar": {
          "title": {
           "text": "weather_score"
          }
         },
         "colorscale": [
          [
           0,
           "#0d0887"
          ],
          [
           0.1111111111111111,
           "#46039f"
          ],
          [
           0.2222222222222222,
           "#7201a8"
          ],
          [
           0.3333333333333333,
           "#9c179e"
          ],
          [
           0.4444444444444444,
           "#bd3786"
          ],
          [
           0.5555555555555556,
           "#d8576b"
          ],
          [
           0.6666666666666666,
           "#ed7953"
          ],
          [
           0.7777777777777778,
           "#fb9f3a"
          ],
          [
           0.8888888888888888,
           "#fdca26"
          ],
          [
           1,
           "#f0f921"
          ]
         ]
        },
        "legend": {
         "itemsizing": "constant",
         "tracegroupgap": 0
        },
        "map": {
         "center": {
          "lat": 43.565345359999995,
          "lon": 5.104605600000001
         },
         "domain": {
          "x": [
           0,
           1
          ],
          "y": [
           0,
           1
          ]
         },
         "style": "open-street-map",
         "zoom": 5
        },
        "mapbox": {
         "center": {
          "lat": 43.565345359999995,
          "lon": 5.104605600000001
         },
         "style": "open-street-map",
         "zoom": 5
        },
        "template": {
         "data": {
          "bar": [
           {
            "error_x": {
             "color": "#2a3f5f"
            },
            "error_y": {
             "color": "#2a3f5f"
            },
            "marker": {
             "line": {
              "color": "#E5ECF6",
              "width": 0.5
             },
             "pattern": {
              "fillmode": "overlay",
              "size": 10,
              "solidity": 0.2
             }
            },
            "type": "bar"
           }
          ],
          "barpolar": [
           {
            "marker": {
             "line": {
              "color": "#E5ECF6",
              "width": 0.5
             },
             "pattern": {
              "fillmode": "overlay",
              "size": 10,
              "solidity": 0.2
             }
            },
            "type": "barpolar"
           }
          ],
          "carpet": [
           {
            "aaxis": {
             "endlinecolor": "#2a3f5f",
             "gridcolor": "white",
             "linecolor": "white",
             "minorgridcolor": "white",
             "startlinecolor": "#2a3f5f"
            },
            "baxis": {
             "endlinecolor": "#2a3f5f",
             "gridcolor": "white",
             "linecolor": "white",
             "minorgridcolor": "white",
             "startlinecolor": "#2a3f5f"
            },
            "type": "carpet"
           }
          ],
          "choropleth": [
           {
            "colorbar": {
             "outlinewidth": 0,
             "ticks": ""
            },
            "type": "choropleth"
           }
          ],
          "contour": [
           {
            "colorbar": {
             "outlinewidth": 0,
             "ticks": ""
            },
            "colorscale": [
             [
              0,
              "#0d0887"
             ],
             [
              0.1111111111111111,
              "#46039f"
             ],
             [
              0.2222222222222222,
              "#7201a8"
             ],
             [
              0.3333333333333333,
              "#9c179e"
             ],
             [
              0.4444444444444444,
              "#bd3786"
             ],
             [
              0.5555555555555556,
              "#d8576b"
             ],
             [
              0.6666666666666666,
              "#ed7953"
             ],
             [
              0.7777777777777778,
              "#fb9f3a"
             ],
             [
              0.8888888888888888,
              "#fdca26"
             ],
             [
              1,
              "#f0f921"
             ]
            ],
            "type": "contour"
           }
          ],
          "contourcarpet": [
           {
            "colorbar": {
             "outlinewidth": 0,
             "ticks": ""
            },
            "type": "contourcarpet"
           }
          ],
          "heatmap": [
           {
            "colorbar": {
             "outlinewidth": 0,
             "ticks": ""
            },
            "colorscale": [
             [
              0,
              "#0d0887"
             ],
             [
              0.1111111111111111,
              "#46039f"
             ],
             [
              0.2222222222222222,
              "#7201a8"
             ],
             [
              0.3333333333333333,
              "#9c179e"
             ],
             [
              0.4444444444444444,
              "#bd3786"
             ],
             [
              0.5555555555555556,
              "#d8576b"
             ],
             [
              0.6666666666666666,
              "#ed7953"
             ],
             [
              0.7777777777777778,
              "#fb9f3a"
             ],
             [
              0.8888888888888888,
              "#fdca26"
             ],
             [
              1,
              "#f0f921"
             ]
            ],
            "type": "heatmap"
           }
          ],
          "histogram": [
           {
            "marker": {
             "pattern": {
              "fillmode": "overlay",
              "size": 10,
              "solidity": 0.2
             }
            },
            "type": "histogram"
           }
          ],
          "histogram2d": [
           {
            "colorbar": {
             "outlinewidth": 0,
             "ticks": ""
            },
            "colorscale": [
             [
              0,
              "#0d0887"
             ],
             [
              0.1111111111111111,
              "#46039f"
             ],
             [
              0.2222222222222222,
              "#7201a8"
             ],
             [
              0.3333333333333333,
              "#9c179e"
             ],
             [
              0.4444444444444444,
              "#bd3786"
             ],
             [
              0.5555555555555556,
              "#d8576b"
             ],
             [
              0.6666666666666666,
              "#ed7953"
             ],
             [
              0.7777777777777778,
              "#fb9f3a"
             ],
             [
              0.8888888888888888,
              "#fdca26"
             ],
             [
              1,
              "#f0f921"
             ]
            ],
            "type": "histogram2d"
           }
          ],
          "histogram2dcontour": [
           {
            "colorbar": {
             "outlinewidth": 0,
             "ticks": ""
            },
            "colorscale": [
             [
              0,
              "#0d0887"
             ],
             [
              0.1111111111111111,
              "#46039f"
             ],
             [
              0.2222222222222222,
              "#7201a8"
             ],
             [
              0.3333333333333333,
              "#9c179e"
             ],
             [
              0.4444444444444444,
              "#bd3786"
             ],
             [
              0.5555555555555556,
              "#d8576b"
             ],
             [
              0.6666666666666666,
              "#ed7953"
             ],
             [
              0.7777777777777778,
              "#fb9f3a"
             ],
             [
              0.8888888888888888,
              "#fdca26"
             ],
             [
              1,
              "#f0f921"
             ]
            ],
            "type": "histogram2dcontour"
           }
          ],
          "mesh3d": [
           {
            "colorbar": {
             "outlinewidth": 0,
             "ticks": ""
            },
            "type": "mesh3d"
           }
          ],
          "parcoords": [
           {
            "line": {
             "colorbar": {
              "outlinewidth": 0,
              "ticks": ""
             }
            },
            "type": "parcoords"
           }
          ],
          "pie": [
           {
            "automargin": true,
            "type": "pie"
           }
          ],
          "scatter": [
           {
            "fillpattern": {
             "fillmode": "overlay",
             "size": 10,
             "solidity": 0.2
            },
            "type": "scatter"
           }
          ],
          "scatter3d": [
           {
            "line": {
             "colorbar": {
              "outlinewidth": 0,
              "ticks": ""
             }
            },
            "marker": {
             "colorbar": {
              "outlinewidth": 0,
              "ticks": ""
             }
            },
            "type": "scatter3d"
           }
          ],
          "scattercarpet": [
           {
            "marker": {
             "colorbar": {
              "outlinewidth": 0,
              "ticks": ""
             }
            },
            "type": "scattercarpet"
           }
          ],
          "scattergeo": [
           {
            "marker": {
             "colorbar": {
              "outlinewidth": 0,
              "ticks": ""
             }
            },
            "type": "scattergeo"
           }
          ],
          "scattergl": [
           {
            "marker": {
             "colorbar": {
              "outlinewidth": 0,
              "ticks": ""
             }
            },
            "type": "scattergl"
           }
          ],
          "scattermap": [
           {
            "marker": {
             "colorbar": {
              "outlinewidth": 0,
              "ticks": ""
             }
            },
            "type": "scattermap"
           }
          ],
          "scattermapbox": [
           {
            "marker": {
             "colorbar": {
              "outlinewidth": 0,
              "ticks": ""
             }
            },
            "type": "scattermapbox"
           }
          ],
          "scatterpolar": [
           {
            "marker": {
             "colorbar": {
              "outlinewidth": 0,
              "ticks": ""
             }
            },
            "type": "scatterpolar"
           }
          ],
          "scatterpolargl": [
           {
            "marker": {
             "colorbar": {
              "outlinewidth": 0,
              "ticks": ""
             }
            },
            "type": "scatterpolargl"
           }
          ],
          "scatterternary": [
           {
            "marker": {
             "colorbar": {
              "outlinewidth": 0,
              "ticks": ""
             }
            },
            "type": "scatterternary"
           }
          ],
          "surface": [
           {
            "colorbar": {
             "outlinewidth": 0,
             "ticks": ""
            },
            "colorscale": [
             [
              0,
              "#0d0887"
             ],
             [
              0.1111111111111111,
              "#46039f"
             ],
             [
              0.2222222222222222,
              "#7201a8"
             ],
             [
              0.3333333333333333,
              "#9c179e"
             ],
             [
              0.4444444444444444,
              "#bd3786"
             ],
             [
              0.5555555555555556,
              "#d8576b"
             ],
             [
              0.6666666666666666,
              "#ed7953"
             ],
             [
              0.7777777777777778,
              "#fb9f3a"
             ],
             [
              0.8888888888888888,
              "#fdca26"
             ],
             [
              1,
              "#f0f921"
             ]
            ],
            "type": "surface"
           }
          ],
          "table": [
           {
            "cells": {
             "fill": {
              "color": "#EBF0F8"
             },
             "line": {
              "color": "white"
             }
            },
            "header": {
             "fill": {
              "color": "#C8D4E3"
             },
             "line": {
              "color": "white"
             }
            },
            "type": "table"
           }
          ]
         },
         "layout": {
          "annotationdefaults": {
           "arrowcolor": "#2a3f5f",
           "arrowhead": 0,
           "arrowwidth": 1
          },
          "autotypenumbers": "strict",
          "coloraxis": {
           "colorbar": {
            "outlinewidth": 0,
            "ticks": ""
           }
          },
          "colorscale": {
           "diverging": [
            [
             0,
             "#8e0152"
            ],
            [
             0.1,
             "#c51b7d"
            ],
            [
             0.2,
             "#de77ae"
            ],
            [
             0.3,
             "#f1b6da"
            ],
            [
             0.4,
             "#fde0ef"
            ],
            [
             0.5,
             "#f7f7f7"
            ],
            [
             0.6,
             "#e6f5d0"
            ],
            [
             0.7,
             "#b8e186"
            ],
            [
             0.8,
             "#7fbc41"
            ],
            [
             0.9,
             "#4d9221"
            ],
            [
             1,
             "#276419"
            ]
           ],
           "sequential": [
            [
             0,
             "#0d0887"
            ],
            [
             0.1111111111111111,
             "#46039f"
            ],
            [
             0.2222222222222222,
             "#7201a8"
            ],
            [
             0.3333333333333333,
             "#9c179e"
            ],
            [
             0.4444444444444444,
             "#bd3786"
            ],
            [
             0.5555555555555556,
             "#d8576b"
            ],
            [
             0.6666666666666666,
             "#ed7953"
            ],
            [
             0.7777777777777778,
             "#fb9f3a"
            ],
            [
             0.8888888888888888,
             "#fdca26"
            ],
            [
             1,
             "#f0f921"
            ]
           ],
           "sequentialminus": [
            [
             0,
             "#0d0887"
            ],
            [
             0.1111111111111111,
             "#46039f"
            ],
            [
             0.2222222222222222,
             "#7201a8"
            ],
            [
             0.3333333333333333,
             "#9c179e"
            ],
            [
             0.4444444444444444,
             "#bd3786"
            ],
            [
             0.5555555555555556,
             "#d8576b"
            ],
            [
             0.6666666666666666,
             "#ed7953"
            ],
            [
             0.7777777777777778,
             "#fb9f3a"
            ],
            [
             0.8888888888888888,
             "#fdca26"
            ],
            [
             1,
             "#f0f921"
            ]
           ]
          },
          "colorway": [
           "#636efa",
           "#EF553B",
           "#00cc96",
           "#ab63fa",
           "#FFA15A",
           "#19d3f3",
           "#FF6692",
           "#B6E880",
           "#FF97FF",
           "#FECB52"
          ],
          "font": {
           "color": "#2a3f5f"
          },
          "geo": {
           "bgcolor": "white",
           "lakecolor": "white",
           "landcolor": "#E5ECF6",
           "showlakes": true,
           "showland": true,
           "subunitcolor": "white"
          },
          "hoverlabel": {
           "align": "left"
          },
          "hovermode": "closest",
          "mapbox": {
           "style": "light"
          },
          "paper_bgcolor": "white",
          "plot_bgcolor": "#E5ECF6",
          "polar": {
           "angularaxis": {
            "gridcolor": "white",
            "linecolor": "white",
            "ticks": ""
           },
           "bgcolor": "#E5ECF6",
           "radialaxis": {
            "gridcolor": "white",
            "linecolor": "white",
            "ticks": ""
           }
          },
          "scene": {
           "xaxis": {
            "backgroundcolor": "#E5ECF6",
            "gridcolor": "white",
            "gridwidth": 2,
            "linecolor": "white",
            "showbackground": true,
            "ticks": "",
            "zerolinecolor": "white"
           },
           "yaxis": {
            "backgroundcolor": "#E5ECF6",
            "gridcolor": "white",
            "gridwidth": 2,
            "linecolor": "white",
            "showbackground": true,
            "ticks": "",
            "zerolinecolor": "white"
           },
           "zaxis": {
            "backgroundcolor": "#E5ECF6",
            "gridcolor": "white",
            "gridwidth": 2,
            "linecolor": "white",
            "showbackground": true,
            "ticks": "",
            "zerolinecolor": "white"
           }
          },
          "shapedefaults": {
           "line": {
            "color": "#2a3f5f"
           }
          },
          "ternary": {
           "aaxis": {
            "gridcolor": "white",
            "linecolor": "white",
            "ticks": ""
           },
           "baxis": {
            "gridcolor": "white",
            "linecolor": "white",
            "ticks": ""
           },
           "bgcolor": "#E5ECF6",
           "caxis": {
            "gridcolor": "white",
            "linecolor": "white",
            "ticks": ""
           }
          },
          "title": {
           "x": 0.05
          },
          "xaxis": {
           "automargin": true,
           "gridcolor": "white",
           "linecolor": "white",
           "ticks": "",
           "title": {
            "standoff": 15
           },
           "zerolinecolor": "white",
           "zerolinewidth": 2
          },
          "yaxis": {
           "automargin": true,
           "gridcolor": "white",
           "linecolor": "white",
           "ticks": "",
           "title": {
            "standoff": 15
           },
           "zerolinecolor": "white",
           "zerolinewidth": 2
          }
         }
        },
        "title": {
         "text": "🌞 Top 5 Destinations en France (Météo + Hôtels)"
        }
       }
      }
     },
     "metadata": {},
     "output_type": "display_data"
    }
   ],
   "source": [
    "import plotly.express as px\n",
    "\n",
    "# Top 5 villes\n",
    "top5_dest = df_final.sort_values(\"weather_score\", ascending=False).head(5)\n",
    "\n",
    "fig1 = px.scatter_map(\n",
    "    top5_dest,\n",
    "    lat=\"lat\", lon=\"lon\",\n",
    "    size=\"nb_hotels\",\n",
    "    color=\"weather_score\",\n",
    "    hover_name=\"city\",\n",
    "    zoom=5,\n",
    "    map_style=\"open-street-map\",\n",
    "    title=\"🌞 Top 5 Destinations en France (Météo + Hôtels)\"\n",
    ")\n",
    "fig1.show()"
   ]
  },
  {
   "cell_type": "code",
   "execution_count": 42,
   "id": "b979df32",
   "metadata": {},
   "outputs": [
    {
     "data": {
      "application/vnd.plotly.v1+json": {
       "config": {
        "plotlyServerURL": "https://plot.ly"
       },
       "data": [
        {
         "customdata": [
          [
           "Chateau du Haut Koenigsbourg",
           "https://www.booking.com/hotel/fr/au-pied-du-chateau-orschwiller.fr.html?aid=304142&label=gen173nr-10CAQoggJCKnNlYXJjaF9jaGF0ZWF1IGR1IGhhdXQga29lbmlnc2JvdXJnLGZyYW5jZUgNWARoTYgBAZgBM7gBF8gBDNgBA-gBAfgBAYgCAagCAbgCkbO2xQbAAgHSAiQ0NDEzZDk3ZC1hYWY0LTQzYzItYTExNi1lNmRiZjRkYWVmN2LYAgHgAgE&ucfs=1&arphpl=1&checkin=2025-09-09&checkout=2025-09-11&group_adults=2&req_adults=2&no_rooms=1&group_children=0&req_children=0&hpos=3&hapos=3&sr_order=popularity&srpvid=42cc5048c6bc0599&srepoch=1756207513&all_sr_blocks=975589701_369931247_2_0_0&highlighted_blocks=975589701_369931247_2_0_0&matching_block_id=975589701_369931247_2_0_0&sr_pri_blocks=975589701_369931247_2_0_0__28120&from=searchresults",
           10
          ],
          [
           "Ariege",
           "https://www.booking.com/hotel/fr/demeure-de-la-carmine.fr.html?aid=304142&label=gen173nr-10CAQoggJCFHNlYXJjaF9hcmllZ2UsZnJhbmNlSA1YBGhNiAEBmAEzuAEXyAEM2AED6AEB-AEBiAIBqAIBuAKQtrbFBsACAdICJDE1MTM1NzI5LWM1MmQtNDM3ZC04MGI5LWJhYjNjNzliM2E4MtgCAeACAQ&ucfs=1&arphpl=1&checkin=2025-09-09&checkout=2025-09-11&group_adults=2&req_adults=2&no_rooms=1&group_children=0&req_children=0&hpos=1&hapos=1&sr_order=popularity&srpvid=e19b5108074f0061&srepoch=1756207898&all_sr_blocks=136330104_365328683_2_1_0&highlighted_blocks=136330104_365328683_2_1_0&matching_block_id=136330104_365328683_2_1_0&sr_pri_blocks=136330104_365328683_2_1_0__30672&from=searchresults",
           9.7
          ],
          [
           "Chateau du Haut Koenigsbourg",
           "https://www.booking.com/hotel/fr/la-foret-enchantee-cozy-immo.fr.html?aid=304142&label=gen173nr-10CAQoggJCKnNlYXJjaF9jaGF0ZWF1IGR1IGhhdXQga29lbmlnc2JvdXJnLGZyYW5jZUgNWARoTYgBAZgBM7gBF8gBDNgBA-gBAfgBAYgCAagCAbgCkbO2xQbAAgHSAiQ0NDEzZDk3ZC1hYWY0LTQzYzItYTExNi1lNmRiZjRkYWVmN2LYAgHgAgE&ucfs=1&arphpl=1&checkin=2025-09-09&checkout=2025-09-11&group_adults=2&req_adults=2&no_rooms=1&group_children=0&req_children=0&hpos=2&hapos=2&sr_order=popularity&srpvid=42cc5048c6bc0599&srepoch=1756207513&all_sr_blocks=972501101_369655660_2_0_0&highlighted_blocks=972501101_369655660_2_0_0&matching_block_id=972501101_369655660_2_0_0&sr_pri_blocks=972501101_369655660_2_0_0__25814&from=searchresults",
           9.6
          ],
          [
           "Cassis",
           "https://www.booking.com/hotel/fr/zina.fr.html?aid=304142&label=gen173nr-10CAQoggJCFHNlYXJjaF9jYXNzaXMsZnJhbmNlSA1YBGhNiAEBmAEzuAEXyAEM2AED6AEB-AEBiAIBqAIBuALctLbFBsACAdICJGIyMDE3ZDNiLTkzNmItNGJhZi1hMTM1LTVhYzk5M2QzYjg2NNgCAeACAQ&ucfs=1&arphpl=1&checkin=2025-09-09&checkout=2025-09-11&group_adults=2&req_adults=2&no_rooms=1&group_children=0&req_children=0&hpos=5&hapos=5&sr_order=popularity&srpvid=7ee350ae4a1706ed&srepoch=1756207716&all_sr_blocks=1194792101_391772779_2_0_0&highlighted_blocks=1194792101_391772779_2_0_0&matching_block_id=1194792101_391772779_2_0_0&sr_pri_blocks=1194792101_391772779_2_0_0__24727&from=searchresults",
           9.5
          ],
          [
           "Mont Saint Michel",
           "https://www.booking.com/hotel/fr/residence-beauvoir-le-mont-saint-michel.fr.html?aid=304142&label=gen173nr-10CAQoggJCH3NlYXJjaF9tb250IHNhaW50IG1pY2hlbCxmcmFuY2VIDVgEaE2IAQGYATO4ARfIAQzYAQPoAQH4AQGIAgGoAgG4AvCxtsUGwAIB0gIkZDZiMGJkNTItOWFmMC00MDQ1LWIyYTQtNDZjNzRmNDIwMzMx2AIB4AIB&ucfs=1&arphpl=1&checkin=2025-09-09&checkout=2025-09-11&group_adults=2&req_adults=2&no_rooms=1&group_children=0&req_children=0&hpos=5&hapos=5&sr_order=popularity&srpvid=80624ff8e9c30771&srepoch=1756207352&all_sr_blocks=456309403_243025440_2_0_0&highlighted_blocks=456309403_243025440_2_0_0&matching_block_id=456309403_243025440_2_0_0&sr_pri_blocks=456309403_243025440_2_0_0__24440&from=searchresults",
           9.5
          ],
          [
           "Marseille",
           "https://www.booking.com/hotel/fr/les-jardins-du-ga-c-na-c-ral.fr.html?aid=304142&label=gen173nr-10CAQoggJCF3NlYXJjaF9tYXJzZWlsbGUsZnJhbmNlSA1YBGhNiAEBmAEzuAEXyAEM2AED6AEB-AEBiAIBqAIBuALstLbFBsACAdICJDIwOGFiNjYwLWUwOGUtNDBiNS1hZDIyLWMzMmRkYWZlOWFiNdgCAeACAQ&ucfs=1&arphpl=1&checkin=2025-09-09&checkout=2025-09-11&group_adults=2&req_adults=2&no_rooms=1&group_children=0&req_children=0&hpos=5&hapos=5&sr_order=popularity&srpvid=c9c250b6dfdd018b&srepoch=1756207735&all_sr_blocks=46239411_232062049_4_0_0&highlighted_blocks=46239411_232062049_4_0_0&matching_block_id=46239411_232062049_4_0_0&sr_pri_blocks=46239411_232062049_4_0_0__35046&from=searchresults",
           9.5
          ],
          [
           "Bayeux",
           "https://www.booking.com/hotel/fr/imagine-bayeux.fr.html?aid=304142&label=gen173nr-10CAQoggJCFHNlYXJjaF9iYXlldXgsZnJhbmNlSA1YBGhNiAEBmAEzuAEXyAEM2AED6AEB-AEBiAIBqAIBuAKWsrbFBsACAdICJGZjOWI1MzFkLTM5YmUtNDBjOC04YWYzLTc2ODQ1MGI5ODQ3MNgCAeACAQ&ucfs=1&arphpl=1&checkin=2025-09-09&checkout=2025-09-11&group_adults=2&req_adults=2&no_rooms=1&group_children=0&req_children=0&hpos=1&hapos=1&sr_order=popularity&srpvid=befc500bbc1f016d&srepoch=1756207390&all_sr_blocks=659053401_391295845_2_1_0&highlighted_blocks=659053401_391295845_2_1_0&matching_block_id=659053401_391295845_2_1_0&sr_pri_blocks=659053401_391295845_2_1_0__24680&from=searchresults",
           9.5
          ],
          [
           "Eguisheim",
           "https://www.booking.com/hotel/fr/les-chambres-du-domaine.fr.html?aid=304142&label=gen173nr-10CAQoggJCF3NlYXJjaF9lZ3Vpc2hlaW0sZnJhbmNlSA1YBGhNiAEBmAEzuAEXyAEM2AED6AEB-AEBiAIBqAIBuAKzs7bFBsACAdICJDk2ZmE3YTAwLTY3N2QtNDk4NC04MGFmLWNiYjI5NDFlZDJiN9gCAeACAQ&ucfs=1&arphpl=1&checkin=2025-09-09&checkout=2025-09-11&group_adults=2&req_adults=2&no_rooms=1&group_children=0&req_children=0&hpos=5&hapos=5&sr_order=popularity&srpvid=c692505947e1062d&srepoch=1756207549&all_sr_blocks=637702603_251338231_2_1_0&highlighted_blocks=637702603_251338231_2_1_0&matching_block_id=637702603_251338231_2_1_0&sr_pri_blocks=637702603_251338231_2_1_0__34324&from=searchresults",
           9.4
          ],
          [
           "Marseille",
           "https://www.booking.com/hotel/fr/citadines-aparthotel-marseilleprado.fr.html?aid=304142&label=gen173nr-10CAQoggJCF3NlYXJjaF9tYXJzZWlsbGUsZnJhbmNlSA1YBGhNiAEBmAEzuAEXyAEM2AED6AEB-AEBiAIBqAIBuALstLbFBsACAdICJDIwOGFiNjYwLWUwOGUtNDBiNS1hZDIyLWMzMmRkYWZlOWFiNdgCAeACAQ&ucfs=1&arphpl=1&checkin=2025-09-09&checkout=2025-09-11&group_adults=2&req_adults=2&no_rooms=1&group_children=0&req_children=0&hpos=4&hapos=4&sr_order=popularity&srpvid=c9c250b6dfdd018b&srepoch=1756207735&all_sr_blocks=21858911_93945031_0_2_0&highlighted_blocks=21858911_93945031_0_2_0&matching_block_id=21858911_93945031_0_2_0&sr_pri_blocks=21858911_93945031_0_2_0__33300&from=searchresults",
           9.4
          ],
          [
           "Bayeux",
           "https://www.booking.com/hotel/fr/au-coeur-du-centre-historique-bayeux.fr.html?aid=304142&label=gen173nr-10CAQoggJCFHNlYXJjaF9iYXlldXgsZnJhbmNlSA1YBGhNiAEBmAEzuAEXyAEM2AED6AEB-AEBiAIBqAIBuAKWsrbFBsACAdICJGZjOWI1MzFkLTM5YmUtNDBjOC04YWYzLTc2ODQ1MGI5ODQ3MNgCAeACAQ&ucfs=1&arphpl=1&checkin=2025-09-09&checkout=2025-09-11&group_adults=2&req_adults=2&no_rooms=1&group_children=0&req_children=0&hpos=2&hapos=2&sr_order=popularity&srpvid=befc500bbc1f016d&srepoch=1756207390&all_sr_blocks=302143901_266322961_2_0_0&highlighted_blocks=302143901_266322961_2_0_0&matching_block_id=302143901_266322961_2_0_0&sr_pri_blocks=302143901_266322961_2_0_0__15520&from=searchresults",
           9.3
          ],
          [
           "Uzes",
           "https://www.booking.com/hotel/fr/une-chambre-a-uzes.fr.html?aid=304142&label=gen173nr-10CAQoggJCEnNlYXJjaF91emVzLGZyYW5jZUgNWARoTYgBAZgBM7gBF8gBDNgBA-gBAfgBAYgCAagCAbgCo7W2xQbAAgHSAiQwYWZjZWUxNC1hZTg0LTQ3NjgtODIxNS1hMTQ3YmE0NTQ2NmHYAgHgAgE&ucfs=1&arphpl=1&checkin=2025-09-09&checkout=2025-09-11&group_adults=2&req_adults=2&no_rooms=1&group_children=0&req_children=0&hpos=4&hapos=4&sr_order=popularity&srpvid=c84b50d1ceb6001b&srepoch=1756207789&all_sr_blocks=832305801_348483084_2_0_0&highlighted_blocks=832305801_348483084_2_0_0&matching_block_id=832305801_348483084_2_0_0&sr_pri_blocks=832305801_348483084_2_0_0__19152&from=searchresults",
           9.3
          ],
          [
           "Ariege",
           "https://www.booking.com/hotel/fr/t2-residence-grand-appt-308-aulus-les-bains.fr.html?aid=304142&label=gen173nr-10CAQoggJCFHNlYXJjaF9hcmllZ2UsZnJhbmNlSA1YBGhNiAEBmAEzuAEXyAEM2AED6AEB-AEBiAIBqAIBuAKQtrbFBsACAdICJDE1MTM1NzI5LWM1MmQtNDM3ZC04MGI5LWJhYjNjNzliM2E4MtgCAeACAQ&ucfs=1&arphpl=1&checkin=2025-09-09&checkout=2025-09-11&group_adults=2&req_adults=2&no_rooms=1&group_children=0&req_children=0&hpos=2&hapos=2&sr_order=popularity&srpvid=e19b5108074f0061&srepoch=1756207898&all_sr_blocks=1223506901_394537981_0_0_0&highlighted_blocks=1223506901_394537981_0_0_0&matching_block_id=1223506901_394537981_0_0_0&sr_pri_blocks=1223506901_394537981_0_0_0__13984&from=searchresults",
           9.3
          ],
          [
           "Uzes",
           "https://www.booking.com/hotel/fr/le-saint-genies.fr.html?aid=304142&label=gen173nr-10CAQoggJCEnNlYXJjaF91emVzLGZyYW5jZUgNWARoTYgBAZgBM7gBF8gBDNgBA-gBAfgBAYgCAagCAbgCo7W2xQbAAgHSAiQwYWZjZWUxNC1hZTg0LTQ3NjgtODIxNS1hMTQ3YmE0NTQ2NmHYAgHgAgE&ucfs=1&arphpl=1&checkin=2025-09-09&checkout=2025-09-11&group_adults=2&req_adults=2&no_rooms=1&group_children=0&req_children=0&hpos=3&hapos=3&sr_order=popularity&srpvid=c84b50d1ceb6001b&srepoch=1756207789&all_sr_blocks=5379004_114557760_0_2_0&highlighted_blocks=5379004_114557760_0_2_0&matching_block_id=5379004_114557760_0_2_0&sr_pri_blocks=5379004_114557760_0_2_0__26408&from=searchresults",
           9.2
          ],
          [
           "Ariege",
           "https://www.booking.com/hotel/fr/appart-t2-au-vernet-d-ariege-avec-jardin-privatif.fr.html?aid=304142&label=gen173nr-10CAQoggJCFHNlYXJjaF9hcmllZ2UsZnJhbmNlSA1YBGhNiAEBmAEzuAEXyAEM2AED6AEB-AEBiAIBqAIBuAKQtrbFBsACAdICJDE1MTM1NzI5LWM1MmQtNDM3ZC04MGI5LWJhYjNjNzliM2E4MtgCAeACAQ&ucfs=1&arphpl=1&checkin=2025-09-09&checkout=2025-09-11&group_adults=2&req_adults=2&no_rooms=1&group_children=0&req_children=0&hpos=5&hapos=5&sr_order=popularity&srpvid=e19b5108074f0061&srepoch=1756207898&all_sr_blocks=1058254501_378065971_2_0_0&highlighted_blocks=1058254501_378065971_2_0_0&matching_block_id=1058254501_378065971_2_0_0&sr_pri_blocks=1058254501_378065971_2_0_0__11507&from=searchresults",
           9.2
          ],
          [
           "Aigues Mortes",
           "https://www.booking.com/hotel/fr/la-villa-mazarin.fr.html?aid=304142&label=gen173nr-10CAQoggJCG3NlYXJjaF9haWd1ZXMgbW9ydGVzLGZyYW5jZUgNWARoTYgBAZgBM7gBF8gBDNgBA-gBAfgBAYgCAagCAbgCyLW2xQbAAgHSAiQxNTkyNjk5YS0zMGEzLTQ5YzgtOTRlYi1iM2MyNTEwZmZjNDDYAgHgAgE&ucfs=1&arphpl=1&checkin=2025-09-09&checkout=2025-09-11&group_adults=2&req_adults=2&no_rooms=1&group_children=0&req_children=0&hpos=4&hapos=4&sr_order=popularity&srpvid=17e250e4be4d0331&srepoch=1756207824&all_sr_blocks=5352101_99734949_0_42_0&highlighted_blocks=5352101_99734949_0_42_0&matching_block_id=5352101_99734949_0_42_0&sr_pri_blocks=5352101_99734949_0_42_0__32452&from=searchresults",
           9.2
          ],
          [
           "Mont Saint Michel",
           "https://www.booking.com/hotel/fr/gites-le-mont-desclos-saint-michel.fr.html?aid=304142&label=gen173nr-10CAQoggJCH3NlYXJjaF9tb250IHNhaW50IG1pY2hlbCxmcmFuY2VIDVgEaE2IAQGYATO4ARfIAQzYAQPoAQH4AQGIAgGoAgG4AvCxtsUGwAIB0gIkZDZiMGJkNTItOWFmMC00MDQ1LWIyYTQtNDZjNzRmNDIwMzMx2AIB4AIB&ucfs=1&arphpl=1&checkin=2025-09-09&checkout=2025-09-11&group_adults=2&req_adults=2&no_rooms=1&group_children=0&req_children=0&hpos=2&hapos=2&sr_order=popularity&srpvid=80624ff8e9c30771&srepoch=1756207352&all_sr_blocks=897773904_360436736_0_0_0&highlighted_blocks=897773904_360436736_0_0_0&matching_block_id=897773904_360436736_0_0_0&sr_pri_blocks=897773904_360436736_0_0_0__21000&from=searchresults",
           9.1
          ],
          [
           "Collioure",
           "https://www.booking.com/hotel/fr/madeloc.fr.html?aid=304142&label=gen173nr-10CAQoggJCF3NlYXJjaF9jb2xsaW91cmUsZnJhbmNlSA1YBGhNiAEBmAEzuAEXyAEM2AED6AEB-AEBiAIBqAIBuALstbbFBsACAdICJDY1MjVkYTRlLWI1ZWUtNDZiYS1iMTFkLWE4ZmE2NWYxNjFjNdgCAeACAQ&ucfs=1&arphpl=1&checkin=2025-09-09&checkout=2025-09-11&group_adults=2&req_adults=2&no_rooms=1&group_children=0&req_children=0&hpos=5&hapos=5&sr_order=popularity&srpvid=c9c250f6e07402a2&srepoch=1756207860&all_sr_blocks=4851437_93698778_2_2_0&highlighted_blocks=4851437_93698778_2_2_0&matching_block_id=4851437_93698778_2_2_0&sr_pri_blocks=4851437_93698778_2_2_0__45934&from=searchresults",
           9.1
          ],
          [
           "Bormes les Mimosas",
           "https://www.booking.com/hotel/fr/bord-de-mer-charmant-studio-entierement-equipe.fr.html?aid=304142&label=gen173nr-10CAQoggJCIHNlYXJjaF9ib3JtZXMgbGVzIG1pbW9zYXMsZnJhbmNlSA1YBGhNiAEBmAEzuAEXyAEM2AED6AEB-AEBiAIBqAIBuALKtLbFBsACAdICJDJhZDJhZGQ4LTM5ZjItNGQxNS1iMjM1LWEyMDg5OTNkYThhONgCAeACAQ&ucfs=1&arphpl=1&checkin=2025-09-09&checkout=2025-09-11&group_adults=2&req_adults=2&no_rooms=1&group_children=0&req_children=0&hpos=4&hapos=4&sr_order=popularity&srpvid=214150a5550f03e2&srepoch=1756207698&all_sr_blocks=910072701_362191320_2_0_0&highlighted_blocks=910072701_362191320_2_0_0&matching_block_id=910072701_362191320_2_0_0&sr_pri_blocks=910072701_362191320_2_0_0__15572&from=searchresults",
           9.1
          ],
          [
           "Eguisheim",
           "https://www.booking.com/hotel/fr/auberge-des-comtes.fr.html?aid=304142&label=gen173nr-10CAQoggJCF3NlYXJjaF9lZ3Vpc2hlaW0sZnJhbmNlSA1YBGhNiAEBmAEzuAEXyAEM2AED6AEB-AEBiAIBqAIBuAKzs7bFBsACAdICJDk2ZmE3YTAwLTY3N2QtNDk4NC04MGFmLWNiYjI5NDFlZDJiN9gCAeACAQ&ucfs=1&arphpl=1&checkin=2025-09-09&checkout=2025-09-11&group_adults=2&req_adults=2&no_rooms=1&group_children=0&req_children=0&hpos=1&hapos=1&sr_order=popularity&srpvid=c692505947e1062d&srepoch=1756207549&all_sr_blocks=5437209_199464520_0_2_0&highlighted_blocks=5437209_199464520_0_2_0&matching_block_id=5437209_199464520_0_2_0&sr_pri_blocks=5437209_199464520_0_2_0__25396&from=searchresults",
           9
          ],
          [
           "Lyon",
           "https://www.booking.com/hotel/fr/oceania-lyon-lumiere.fr.html?aid=304142&label=gen173nr-10CAQoggJCEnNlYXJjaF9seW9uLGZyYW5jZUgNWARoTYgBAZgBM7gBF8gBDNgBA-gBAfgBAYgCAagCAbgCo7S2xQbAAgHSAiRkMzBhNzc5Yi1mN2Q3LTQ3MDAtYjQ0ZC0yZDFiZDk0OGVhMDPYAgHgAgE&ucfs=1&arphpl=1&checkin=2025-09-09&checkout=2025-09-11&group_adults=2&req_adults=2&no_rooms=1&group_children=0&req_children=0&hpos=3&hapos=3&sr_order=popularity&srpvid=d2b950912f8a03ff&srepoch=1756207662&all_sr_blocks=1380697701_410171101_0_1_0&highlighted_blocks=1380697701_410171101_0_1_0&matching_block_id=1380697701_410171101_0_1_0&sr_pri_blocks=1380697701_410171101_0_1_0__21596&from=searchresults",
           9
          ]
         ],
         "hovertemplate": "<b>%{hovertext}</b><br><br>size_bubble=%{marker.size}<br>lat=%{lat}<br>lon=%{lon}<br>city=%{customdata[0]}<br>score=%{marker.color:.2f}<extra></extra>",
         "hovertext": [
          "Au pied du Château",
          "Demeure de la Carmine, sejour bien-etre d'exception, piscine, hammam, champagne",
          "La forêt Enchantée - Cozy Immo",
          "Zina",
          "Résidence Beauvoir le Mont-Saint-Michel (9 gîtes de 2 à 5 personnes)",
          "Les Appartements du Vieux Port",
          "B&B Nathalie",
          "Les chambres du domaine",
          "RockyPop Marseille Hôtel",
          "Au cœur du centre historique",
          "Une chambre à Uzès",
          "Le Valier, T2 résidence Grand Hôtel - Appt 308 - Aulus-les-bains",
          "Hôtel Le SAINT-GENIÈS",
          "Appart T2 au Vernet d'Ariège avec jardin privatif",
          "La Villa Mazarin",
          "Gîtes le Mont Desclos Saint Michel",
          "Le Madeloc Hôtel & Spa",
          "Bord de mer, charmant studio entièrement équipé",
          "Hotel Colmar Vignes Eguisheim",
          "Hotel Oceania Lyon"
         ],
         "lat": {
          "bdata": "4OKXsOwfSEAOlZBZB3lFQODil7DsH0hAwFVDh2WbRUDpoKbxZlFIQDU1GgrppUVAbkmzHmOjSECUe8vmuwVIQDU1GgrppUVAbkmzHmOjSEBB7zJojQFGQA6VkFkHeUVAQe8yaI0BRkAOlZBZB3lFQOYHCax3yEVA6aCm8WZRSEDlYaHWNENFQFHOYQhKk0VAlHvL5rsFSED6+hAKAOFGQA==",
          "dtype": "f8"
         },
         "legendgroup": "",
         "lon": {
          "bdata": "omh5eZVgHUDst8AvP4H2P6JoeXmVYB1AxoYTPZUoFkACZVOu8C74vzRLAtTUehVAwX+pVap65r9Pq41WWjsdQDRLAtTUehVAwX+pVap65r+8NsBxvq0RQOy3wC8/gfY/vDbAcb6tEUDst8AvP4H2P9yAzw8jxBBAAmVTrvAu+L/q4ttgTaoIQAZINIEiXhlAT6uNVlo7HUDBmOPL+lMTQA==",
          "dtype": "f8"
         },
         "marker": {
          "color": {
           "bdata": "AAAAAAAAJEBmZmZmZmYjQDMzMzMzMyNAAAAAAAAAI0AAAAAAAAAjQAAAAAAAACNAAAAAAAAAI0DNzMzMzMwiQM3MzMzMzCJAmpmZmZmZIkCamZmZmZkiQJqZmZmZmSJAZmZmZmZmIkBmZmZmZmYiQGZmZmZmZiJAMzMzMzMzIkAzMzMzMzMiQDMzMzMzMyJAAAAAAAAAIkAAAAAAAAAiQA==",
           "dtype": "f8"
          },
          "coloraxis": "coloraxis",
          "size": {
           "bdata": "AAAAAAAAKECYmZmZmZklQMzMzMzMzCRAAAAAAAAAJEAAAAAAAAAkQAAAAAAAACRAAAAAAAAAJEA0MzMzMzMjQDQzMzMzMyNAaGZmZmZmIkBoZmZmZmYiQGhmZmZmZiJAmJmZmZmZIUCYmZmZmZkhQJiZmZmZmSFAzMzMzMzMIEDMzMzMzMwgQMzMzMzMzCBAAAAAAAAAIEAAAAAAAAAgQA==",
           "dtype": "f8"
          },
          "sizemode": "area",
          "sizeref": 0.03
         },
         "mode": "markers",
         "name": "",
         "showlegend": false,
         "subplot": "map",
         "type": "scattermap"
        }
       ],
       "layout": {
        "coloraxis": {
         "colorbar": {
          "title": {
           "text": "score"
          }
         },
         "colorscale": [
          [
           0,
           "#0d0887"
          ],
          [
           0.1111111111111111,
           "#46039f"
          ],
          [
           0.2222222222222222,
           "#7201a8"
          ],
          [
           0.3333333333333333,
           "#9c179e"
          ],
          [
           0.4444444444444444,
           "#bd3786"
          ],
          [
           0.5555555555555556,
           "#d8576b"
          ],
          [
           0.6666666666666666,
           "#ed7953"
          ],
          [
           0.7777777777777778,
           "#fb9f3a"
          ],
          [
           0.8888888888888888,
           "#fdca26"
          ],
          [
           1,
           "#f0f921"
          ]
         ]
        },
        "legend": {
         "itemsizing": "constant",
         "tracegroupgap": 0
        },
        "map": {
         "center": {
          "lat": 45.504010565,
          "lon": 3.633193765
         },
         "domain": {
          "x": [
           0,
           1
          ],
          "y": [
           0,
           1
          ]
         },
         "style": "open-street-map",
         "zoom": 5
        },
        "mapbox": {
         "center": {
          "lat": 45.504010565,
          "lon": 3.633193765
         },
         "style": "open-street-map",
         "zoom": 5
        },
        "template": {
         "data": {
          "bar": [
           {
            "error_x": {
             "color": "#2a3f5f"
            },
            "error_y": {
             "color": "#2a3f5f"
            },
            "marker": {
             "line": {
              "color": "#E5ECF6",
              "width": 0.5
             },
             "pattern": {
              "fillmode": "overlay",
              "size": 10,
              "solidity": 0.2
             }
            },
            "type": "bar"
           }
          ],
          "barpolar": [
           {
            "marker": {
             "line": {
              "color": "#E5ECF6",
              "width": 0.5
             },
             "pattern": {
              "fillmode": "overlay",
              "size": 10,
              "solidity": 0.2
             }
            },
            "type": "barpolar"
           }
          ],
          "carpet": [
           {
            "aaxis": {
             "endlinecolor": "#2a3f5f",
             "gridcolor": "white",
             "linecolor": "white",
             "minorgridcolor": "white",
             "startlinecolor": "#2a3f5f"
            },
            "baxis": {
             "endlinecolor": "#2a3f5f",
             "gridcolor": "white",
             "linecolor": "white",
             "minorgridcolor": "white",
             "startlinecolor": "#2a3f5f"
            },
            "type": "carpet"
           }
          ],
          "choropleth": [
           {
            "colorbar": {
             "outlinewidth": 0,
             "ticks": ""
            },
            "type": "choropleth"
           }
          ],
          "contour": [
           {
            "colorbar": {
             "outlinewidth": 0,
             "ticks": ""
            },
            "colorscale": [
             [
              0,
              "#0d0887"
             ],
             [
              0.1111111111111111,
              "#46039f"
             ],
             [
              0.2222222222222222,
              "#7201a8"
             ],
             [
              0.3333333333333333,
              "#9c179e"
             ],
             [
              0.4444444444444444,
              "#bd3786"
             ],
             [
              0.5555555555555556,
              "#d8576b"
             ],
             [
              0.6666666666666666,
              "#ed7953"
             ],
             [
              0.7777777777777778,
              "#fb9f3a"
             ],
             [
              0.8888888888888888,
              "#fdca26"
             ],
             [
              1,
              "#f0f921"
             ]
            ],
            "type": "contour"
           }
          ],
          "contourcarpet": [
           {
            "colorbar": {
             "outlinewidth": 0,
             "ticks": ""
            },
            "type": "contourcarpet"
           }
          ],
          "heatmap": [
           {
            "colorbar": {
             "outlinewidth": 0,
             "ticks": ""
            },
            "colorscale": [
             [
              0,
              "#0d0887"
             ],
             [
              0.1111111111111111,
              "#46039f"
             ],
             [
              0.2222222222222222,
              "#7201a8"
             ],
             [
              0.3333333333333333,
              "#9c179e"
             ],
             [
              0.4444444444444444,
              "#bd3786"
             ],
             [
              0.5555555555555556,
              "#d8576b"
             ],
             [
              0.6666666666666666,
              "#ed7953"
             ],
             [
              0.7777777777777778,
              "#fb9f3a"
             ],
             [
              0.8888888888888888,
              "#fdca26"
             ],
             [
              1,
              "#f0f921"
             ]
            ],
            "type": "heatmap"
           }
          ],
          "histogram": [
           {
            "marker": {
             "pattern": {
              "fillmode": "overlay",
              "size": 10,
              "solidity": 0.2
             }
            },
            "type": "histogram"
           }
          ],
          "histogram2d": [
           {
            "colorbar": {
             "outlinewidth": 0,
             "ticks": ""
            },
            "colorscale": [
             [
              0,
              "#0d0887"
             ],
             [
              0.1111111111111111,
              "#46039f"
             ],
             [
              0.2222222222222222,
              "#7201a8"
             ],
             [
              0.3333333333333333,
              "#9c179e"
             ],
             [
              0.4444444444444444,
              "#bd3786"
             ],
             [
              0.5555555555555556,
              "#d8576b"
             ],
             [
              0.6666666666666666,
              "#ed7953"
             ],
             [
              0.7777777777777778,
              "#fb9f3a"
             ],
             [
              0.8888888888888888,
              "#fdca26"
             ],
             [
              1,
              "#f0f921"
             ]
            ],
            "type": "histogram2d"
           }
          ],
          "histogram2dcontour": [
           {
            "colorbar": {
             "outlinewidth": 0,
             "ticks": ""
            },
            "colorscale": [
             [
              0,
              "#0d0887"
             ],
             [
              0.1111111111111111,
              "#46039f"
             ],
             [
              0.2222222222222222,
              "#7201a8"
             ],
             [
              0.3333333333333333,
              "#9c179e"
             ],
             [
              0.4444444444444444,
              "#bd3786"
             ],
             [
              0.5555555555555556,
              "#d8576b"
             ],
             [
              0.6666666666666666,
              "#ed7953"
             ],
             [
              0.7777777777777778,
              "#fb9f3a"
             ],
             [
              0.8888888888888888,
              "#fdca26"
             ],
             [
              1,
              "#f0f921"
             ]
            ],
            "type": "histogram2dcontour"
           }
          ],
          "mesh3d": [
           {
            "colorbar": {
             "outlinewidth": 0,
             "ticks": ""
            },
            "type": "mesh3d"
           }
          ],
          "parcoords": [
           {
            "line": {
             "colorbar": {
              "outlinewidth": 0,
              "ticks": ""
             }
            },
            "type": "parcoords"
           }
          ],
          "pie": [
           {
            "automargin": true,
            "type": "pie"
           }
          ],
          "scatter": [
           {
            "fillpattern": {
             "fillmode": "overlay",
             "size": 10,
             "solidity": 0.2
            },
            "type": "scatter"
           }
          ],
          "scatter3d": [
           {
            "line": {
             "colorbar": {
              "outlinewidth": 0,
              "ticks": ""
             }
            },
            "marker": {
             "colorbar": {
              "outlinewidth": 0,
              "ticks": ""
             }
            },
            "type": "scatter3d"
           }
          ],
          "scattercarpet": [
           {
            "marker": {
             "colorbar": {
              "outlinewidth": 0,
              "ticks": ""
             }
            },
            "type": "scattercarpet"
           }
          ],
          "scattergeo": [
           {
            "marker": {
             "colorbar": {
              "outlinewidth": 0,
              "ticks": ""
             }
            },
            "type": "scattergeo"
           }
          ],
          "scattergl": [
           {
            "marker": {
             "colorbar": {
              "outlinewidth": 0,
              "ticks": ""
             }
            },
            "type": "scattergl"
           }
          ],
          "scattermap": [
           {
            "marker": {
             "colorbar": {
              "outlinewidth": 0,
              "ticks": ""
             }
            },
            "type": "scattermap"
           }
          ],
          "scattermapbox": [
           {
            "marker": {
             "colorbar": {
              "outlinewidth": 0,
              "ticks": ""
             }
            },
            "type": "scattermapbox"
           }
          ],
          "scatterpolar": [
           {
            "marker": {
             "colorbar": {
              "outlinewidth": 0,
              "ticks": ""
             }
            },
            "type": "scatterpolar"
           }
          ],
          "scatterpolargl": [
           {
            "marker": {
             "colorbar": {
              "outlinewidth": 0,
              "ticks": ""
             }
            },
            "type": "scatterpolargl"
           }
          ],
          "scatterternary": [
           {
            "marker": {
             "colorbar": {
              "outlinewidth": 0,
              "ticks": ""
             }
            },
            "type": "scatterternary"
           }
          ],
          "surface": [
           {
            "colorbar": {
             "outlinewidth": 0,
             "ticks": ""
            },
            "colorscale": [
             [
              0,
              "#0d0887"
             ],
             [
              0.1111111111111111,
              "#46039f"
             ],
             [
              0.2222222222222222,
              "#7201a8"
             ],
             [
              0.3333333333333333,
              "#9c179e"
             ],
             [
              0.4444444444444444,
              "#bd3786"
             ],
             [
              0.5555555555555556,
              "#d8576b"
             ],
             [
              0.6666666666666666,
              "#ed7953"
             ],
             [
              0.7777777777777778,
              "#fb9f3a"
             ],
             [
              0.8888888888888888,
              "#fdca26"
             ],
             [
              1,
              "#f0f921"
             ]
            ],
            "type": "surface"
           }
          ],
          "table": [
           {
            "cells": {
             "fill": {
              "color": "#EBF0F8"
             },
             "line": {
              "color": "white"
             }
            },
            "header": {
             "fill": {
              "color": "#C8D4E3"
             },
             "line": {
              "color": "white"
             }
            },
            "type": "table"
           }
          ]
         },
         "layout": {
          "annotationdefaults": {
           "arrowcolor": "#2a3f5f",
           "arrowhead": 0,
           "arrowwidth": 1
          },
          "autotypenumbers": "strict",
          "coloraxis": {
           "colorbar": {
            "outlinewidth": 0,
            "ticks": ""
           }
          },
          "colorscale": {
           "diverging": [
            [
             0,
             "#8e0152"
            ],
            [
             0.1,
             "#c51b7d"
            ],
            [
             0.2,
             "#de77ae"
            ],
            [
             0.3,
             "#f1b6da"
            ],
            [
             0.4,
             "#fde0ef"
            ],
            [
             0.5,
             "#f7f7f7"
            ],
            [
             0.6,
             "#e6f5d0"
            ],
            [
             0.7,
             "#b8e186"
            ],
            [
             0.8,
             "#7fbc41"
            ],
            [
             0.9,
             "#4d9221"
            ],
            [
             1,
             "#276419"
            ]
           ],
           "sequential": [
            [
             0,
             "#0d0887"
            ],
            [
             0.1111111111111111,
             "#46039f"
            ],
            [
             0.2222222222222222,
             "#7201a8"
            ],
            [
             0.3333333333333333,
             "#9c179e"
            ],
            [
             0.4444444444444444,
             "#bd3786"
            ],
            [
             0.5555555555555556,
             "#d8576b"
            ],
            [
             0.6666666666666666,
             "#ed7953"
            ],
            [
             0.7777777777777778,
             "#fb9f3a"
            ],
            [
             0.8888888888888888,
             "#fdca26"
            ],
            [
             1,
             "#f0f921"
            ]
           ],
           "sequentialminus": [
            [
             0,
             "#0d0887"
            ],
            [
             0.1111111111111111,
             "#46039f"
            ],
            [
             0.2222222222222222,
             "#7201a8"
            ],
            [
             0.3333333333333333,
             "#9c179e"
            ],
            [
             0.4444444444444444,
             "#bd3786"
            ],
            [
             0.5555555555555556,
             "#d8576b"
            ],
            [
             0.6666666666666666,
             "#ed7953"
            ],
            [
             0.7777777777777778,
             "#fb9f3a"
            ],
            [
             0.8888888888888888,
             "#fdca26"
            ],
            [
             1,
             "#f0f921"
            ]
           ]
          },
          "colorway": [
           "#636efa",
           "#EF553B",
           "#00cc96",
           "#ab63fa",
           "#FFA15A",
           "#19d3f3",
           "#FF6692",
           "#B6E880",
           "#FF97FF",
           "#FECB52"
          ],
          "font": {
           "color": "#2a3f5f"
          },
          "geo": {
           "bgcolor": "white",
           "lakecolor": "white",
           "landcolor": "#E5ECF6",
           "showlakes": true,
           "showland": true,
           "subunitcolor": "white"
          },
          "hoverlabel": {
           "align": "left"
          },
          "hovermode": "closest",
          "mapbox": {
           "style": "light"
          },
          "paper_bgcolor": "white",
          "plot_bgcolor": "#E5ECF6",
          "polar": {
           "angularaxis": {
            "gridcolor": "white",
            "linecolor": "white",
            "ticks": ""
           },
           "bgcolor": "#E5ECF6",
           "radialaxis": {
            "gridcolor": "white",
            "linecolor": "white",
            "ticks": ""
           }
          },
          "scene": {
           "xaxis": {
            "backgroundcolor": "#E5ECF6",
            "gridcolor": "white",
            "gridwidth": 2,
            "linecolor": "white",
            "showbackground": true,
            "ticks": "",
            "zerolinecolor": "white"
           },
           "yaxis": {
            "backgroundcolor": "#E5ECF6",
            "gridcolor": "white",
            "gridwidth": 2,
            "linecolor": "white",
            "showbackground": true,
            "ticks": "",
            "zerolinecolor": "white"
           },
           "zaxis": {
            "backgroundcolor": "#E5ECF6",
            "gridcolor": "white",
            "gridwidth": 2,
            "linecolor": "white",
            "showbackground": true,
            "ticks": "",
            "zerolinecolor": "white"
           }
          },
          "shapedefaults": {
           "line": {
            "color": "#2a3f5f"
           }
          },
          "ternary": {
           "aaxis": {
            "gridcolor": "white",
            "linecolor": "white",
            "ticks": ""
           },
           "baxis": {
            "gridcolor": "white",
            "linecolor": "white",
            "ticks": ""
           },
           "bgcolor": "#E5ECF6",
           "caxis": {
            "gridcolor": "white",
            "linecolor": "white",
            "ticks": ""
           }
          },
          "title": {
           "x": 0.05
          },
          "xaxis": {
           "automargin": true,
           "gridcolor": "white",
           "linecolor": "white",
           "ticks": "",
           "title": {
            "standoff": 15
           },
           "zerolinecolor": "white",
           "zerolinewidth": 2
          },
          "yaxis": {
           "automargin": true,
           "gridcolor": "white",
           "linecolor": "white",
           "ticks": "",
           "title": {
            "standoff": 15
           },
           "zerolinecolor": "white",
           "zerolinewidth": 2
          }
         }
        },
        "title": {
         "text": "🏨 Top 20 Hôtels en France (note Booking)"
        }
       }
      }
     },
     "metadata": {},
     "output_type": "display_data"
    }
   ],
   "source": [
    "hotels_plot = df_hotels_city.copy()\n",
    "\n",
    "# Nettoyage des types\n",
    "for c in [\"lat\",\"lon\",\"score\"]:\n",
    "    if c in hotels_plot.columns:\n",
    "        hotels_plot[c] = pd.to_numeric(hotels_plot[c], errors=\"coerce\")\n",
    "\n",
    "# Garder seulement les hôtels avec coordonnées + score\n",
    "hotels_plot = hotels_plot.dropna(subset=[\"lat\",\"lon\",\"score\"])\n",
    "\n",
    "# Top 20 selon la note\n",
    "top20_hotels = hotels_plot.sort_values(\"score\", ascending=False).head(20).copy()\n",
    "\n",
    "# Bulle lisible\n",
    "top20_hotels[\"size_bubble\"] = (top20_hotels[\"score\"] - top20_hotels[\"score\"].min()) * 4 + 8\n",
    "\n",
    "fig2 = px.scatter_map(\n",
    "    top20_hotels,\n",
    "    lat=\"lat\", lon=\"lon\",\n",
    "    size=\"size_bubble\",\n",
    "    color=\"score\",\n",
    "    hover_name=\"hotel_name\",\n",
    "    hover_data={\"city\": True, \"url\": False, \"score\":\":.2f\"},\n",
    "    zoom=5,\n",
    "    map_style=\"open-street-map\",\n",
    "    title=\"🏨 Top 20 Hôtels en France (note Booking)\"\n",
    ")\n",
    "fig2.show()"
   ]
  },
  {
   "cell_type": "code",
   "execution_count": null,
   "id": "e98a840d",
   "metadata": {},
   "outputs": [],
   "source": []
  }
 ],
 "metadata": {
  "kernelspec": {
   "display_name": "base",
   "language": "python",
   "name": "python3"
  },
  "language_info": {
   "codemirror_mode": {
    "name": "ipython",
    "version": 3
   },
   "file_extension": ".py",
   "mimetype": "text/x-python",
   "name": "python",
   "nbconvert_exporter": "python",
   "pygments_lexer": "ipython3",
   "version": "3.12.7"
  }
 },
 "nbformat": 4,
 "nbformat_minor": 5
}
